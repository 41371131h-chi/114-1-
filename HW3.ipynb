{
  "nbformat": 4,
  "nbformat_minor": 0,
  "metadata": {
    "colab": {
      "provenance": [],
      "include_colab_link": true
    },
    "kernelspec": {
      "name": "python3",
      "display_name": "Python 3"
    },
    "language_info": {
      "name": "python"
    }
  },
  "cells": [
    {
      "cell_type": "markdown",
      "metadata": {
        "id": "view-in-github",
        "colab_type": "text"
      },
      "source": [
        "<a href=\"https://colab.research.google.com/github/41371131h-chi/114-1-/blob/main/HW3.ipynb\" target=\"_parent\"><img src=\"https://colab.research.google.com/assets/colab-badge.svg\" alt=\"Open In Colab\"/></a>"
      ]
    },
    {
      "cell_type": "code",
      "source": [
        "!pip -q install gspread gspread_dataframe google-auth google-auth-oauthlib google-auth-httplib2 \\\n",
        "               gradio pandas beautifulsoup4 google-generativeai python-dateutil"
      ],
      "metadata": {
        "id": "8dhA2pQxhLLX"
      },
      "execution_count": 99,
      "outputs": []
    },
    {
      "cell_type": "code",
      "source": [
        "import os, time, uuid, re, json, datetime\n",
        "from datetime import datetime as dt, timedelta\n",
        "from dateutil.tz import gettz\n",
        "import pandas as pd\n",
        "import gradio as gr\n",
        "import requests\n",
        "from bs4 import BeautifulSoup\n",
        "\n",
        "import google.generativeai as genai\n",
        "\n",
        "# Google Auth & Sheets\n",
        "from google.colab import auth\n",
        "import gspread\n",
        "from gspread_dataframe import set_with_dataframe, get_as_dataframe\n",
        "from google.auth.transport.requests import Request\n",
        "from google.oauth2 import service_account\n",
        "from google.auth import default"
      ],
      "metadata": {
        "id": "Niq4EB1Ui-Pk"
      },
      "execution_count": 100,
      "outputs": []
    },
    {
      "cell_type": "code",
      "source": [
        "from google.colab import auth\n",
        "auth.authenticate_user()\n",
        "\n",
        "import gspread\n",
        "from google.auth import default\n",
        "creds, _ = default()\n",
        "\n",
        "gc = gspread.authorize(creds)"
      ],
      "metadata": {
        "id": "PGiNuVijQ-Yb"
      },
      "execution_count": 101,
      "outputs": []
    },
    {
      "cell_type": "code",
      "source": [
        "from google.colab import userdata\n",
        "api_key = userdata.get('HW3')\n",
        "genai.configure(api_key=api_key)\n",
        "model = genai.GenerativeModel('gemini-2.5-flash')"
      ],
      "metadata": {
        "id": "XjPjVJFnkUCk"
      },
      "execution_count": 102,
      "outputs": []
    },
    {
      "cell_type": "code",
      "source": [
        "SHEET_URL = \"https://docs.google.com/spreadsheets/d/1nuhUMYejx4I0uq-2Fro6Bjlpd0H1VW0ecVyKXM1AePA/edit?usp=sharing\"\n",
        "WORKSHEET_NAME = \"工作表3\"\n",
        "TIMEZONE = \"Asia/Taipei\""
      ],
      "metadata": {
        "id": "_RATk0PYi-q9"
      },
      "execution_count": 103,
      "outputs": []
    },
    {
      "cell_type": "code",
      "source": [
        "import pandas as pd\n",
        "# read data and put it in a dataframe\n",
        "# 在 google 工作表載入 gsheets\n",
        "gsheets = gc.open_by_url(SHEET_URL)\n",
        "\n",
        "\n",
        "# 從 gsheets 的 All-whiteboard-device 載入 sheets\n",
        "sh = gsheets.worksheet(WORKSHEET_NAME).get_all_values()\n",
        "# 將 sheets1 資料載入 pd 的 DataFrame 進行分析\n",
        "df = pd.DataFrame(sh[1:], columns=sh[0])\n",
        "# 取得最前面的5筆資料\n",
        "df.head()\n"
      ],
      "metadata": {
        "colab": {
          "base_uri": "https://localhost:8080/",
          "height": 53
        },
        "id": "piCDLtpVQXtI",
        "outputId": "2cb44831-80eb-4de8-b9a0-973833b23c0d"
      },
      "execution_count": 104,
      "outputs": [
        {
          "output_type": "execute_result",
          "data": {
            "text/plain": [
              "Empty DataFrame\n",
              "Columns: []\n",
              "Index: []"
            ],
            "text/html": [
              "\n",
              "  <div id=\"df-b6233a5c-e811-4223-b2ee-1869c4a5c6ab\" class=\"colab-df-container\">\n",
              "    <div>\n",
              "<style scoped>\n",
              "    .dataframe tbody tr th:only-of-type {\n",
              "        vertical-align: middle;\n",
              "    }\n",
              "\n",
              "    .dataframe tbody tr th {\n",
              "        vertical-align: top;\n",
              "    }\n",
              "\n",
              "    .dataframe thead th {\n",
              "        text-align: right;\n",
              "    }\n",
              "</style>\n",
              "<table border=\"1\" class=\"dataframe\">\n",
              "  <thead>\n",
              "    <tr style=\"text-align: right;\">\n",
              "      <th></th>\n",
              "    </tr>\n",
              "  </thead>\n",
              "  <tbody>\n",
              "  </tbody>\n",
              "</table>\n",
              "</div>\n",
              "    <div class=\"colab-df-buttons\">\n",
              "\n",
              "  <div class=\"colab-df-container\">\n",
              "    <button class=\"colab-df-convert\" onclick=\"convertToInteractive('df-b6233a5c-e811-4223-b2ee-1869c4a5c6ab')\"\n",
              "            title=\"Convert this dataframe to an interactive table.\"\n",
              "            style=\"display:none;\">\n",
              "\n",
              "  <svg xmlns=\"http://www.w3.org/2000/svg\" height=\"24px\" viewBox=\"0 -960 960 960\">\n",
              "    <path d=\"M120-120v-720h720v720H120Zm60-500h600v-160H180v160Zm220 220h160v-160H400v160Zm0 220h160v-160H400v160ZM180-400h160v-160H180v160Zm440 0h160v-160H620v160ZM180-180h160v-160H180v160Zm440 0h160v-160H620v160Z\"/>\n",
              "  </svg>\n",
              "    </button>\n",
              "\n",
              "  <style>\n",
              "    .colab-df-container {\n",
              "      display:flex;\n",
              "      gap: 12px;\n",
              "    }\n",
              "\n",
              "    .colab-df-convert {\n",
              "      background-color: #E8F0FE;\n",
              "      border: none;\n",
              "      border-radius: 50%;\n",
              "      cursor: pointer;\n",
              "      display: none;\n",
              "      fill: #1967D2;\n",
              "      height: 32px;\n",
              "      padding: 0 0 0 0;\n",
              "      width: 32px;\n",
              "    }\n",
              "\n",
              "    .colab-df-convert:hover {\n",
              "      background-color: #E2EBFA;\n",
              "      box-shadow: 0px 1px 2px rgba(60, 64, 67, 0.3), 0px 1px 3px 1px rgba(60, 64, 67, 0.15);\n",
              "      fill: #174EA6;\n",
              "    }\n",
              "\n",
              "    .colab-df-buttons div {\n",
              "      margin-bottom: 4px;\n",
              "    }\n",
              "\n",
              "    [theme=dark] .colab-df-convert {\n",
              "      background-color: #3B4455;\n",
              "      fill: #D2E3FC;\n",
              "    }\n",
              "\n",
              "    [theme=dark] .colab-df-convert:hover {\n",
              "      background-color: #434B5C;\n",
              "      box-shadow: 0px 1px 3px 1px rgba(0, 0, 0, 0.15);\n",
              "      filter: drop-shadow(0px 1px 2px rgba(0, 0, 0, 0.3));\n",
              "      fill: #FFFFFF;\n",
              "    }\n",
              "  </style>\n",
              "\n",
              "    <script>\n",
              "      const buttonEl =\n",
              "        document.querySelector('#df-b6233a5c-e811-4223-b2ee-1869c4a5c6ab button.colab-df-convert');\n",
              "      buttonEl.style.display =\n",
              "        google.colab.kernel.accessAllowed ? 'block' : 'none';\n",
              "\n",
              "      async function convertToInteractive(key) {\n",
              "        const element = document.querySelector('#df-b6233a5c-e811-4223-b2ee-1869c4a5c6ab');\n",
              "        const dataTable =\n",
              "          await google.colab.kernel.invokeFunction('convertToInteractive',\n",
              "                                                    [key], {});\n",
              "        if (!dataTable) return;\n",
              "\n",
              "        const docLinkHtml = 'Like what you see? Visit the ' +\n",
              "          '<a target=\"_blank\" href=https://colab.research.google.com/notebooks/data_table.ipynb>data table notebook</a>'\n",
              "          + ' to learn more about interactive tables.';\n",
              "        element.innerHTML = '';\n",
              "        dataTable['output_type'] = 'display_data';\n",
              "        await google.colab.output.renderOutput(dataTable, element);\n",
              "        const docLink = document.createElement('div');\n",
              "        docLink.innerHTML = docLinkHtml;\n",
              "        element.appendChild(docLink);\n",
              "      }\n",
              "    </script>\n",
              "  </div>\n",
              "\n",
              "\n",
              "    </div>\n",
              "  </div>\n"
            ],
            "application/vnd.google.colaboratory.intrinsic+json": {
              "type": "dataframe",
              "variable_name": "df",
              "summary": "{\n  \"name\": \"df\",\n  \"rows\": 0,\n  \"fields\": []\n}"
            }
          },
          "metadata": {},
          "execution_count": 104
        }
      ]
    },
    {
      "cell_type": "code",
      "source": [
        "def ensure_spreadsheet(name):\n",
        "    try:\n",
        "        sh = gc.open(name)  # returns gspread.models.Spreadsheet\n",
        "    except gspread.SpreadsheetNotFound:\n",
        "        sh = gc.create(name)\n",
        "    return sh\n",
        "\n",
        "sh = gsheets"
      ],
      "metadata": {
        "id": "vbhukYyIUOVK"
      },
      "execution_count": 105,
      "outputs": []
    },
    {
      "cell_type": "code",
      "source": [
        "def ensure_worksheet(sh, title, header):\n",
        "    try:\n",
        "        ws = sh.worksheet(title)\n",
        "    except gspread.WorksheetNotFound:\n",
        "        ws = sh.add_worksheet(title=title, rows=\"1000\", cols=str(len(header)+5))\n",
        "        ws.update([header])\n",
        "    # 若沒有表頭就補上\n",
        "    data = ws.get_all_values()\n",
        "    if not data or (data and data[0] != header):\n",
        "        ws.clear()\n",
        "        ws.update([header])\n",
        "    return ws\n",
        "\n",
        "TASKS_HEADER = [\n",
        "    \"id\",\"task\",\"status\",\"priority\",\"est_min\",\"start_time\",\"end_time\",\n",
        "    \"actual_min\",\"pomodoros\",\"due_date\",\"labels\",\"notes\",\n",
        "    \"created_at\",\"updated_at\",\"completed_at\",\"planned_for\"\n",
        "]\n",
        "LOGS_HEADER = [\n",
        "    \"log_id\",\"task_id\",\"phase\",\"start_ts\",\"end_ts\",\"minutes\",\"cycles\",\"note\"\n",
        "]\n",
        "CLIPS_HEADER = [\"clip_id\",\"url\",\"selector\",\"text\",\"href\",\"created_at\",\"added_to_task\"]\n",
        "\n",
        "ws_tasks = ensure_worksheet(sh, \"tasks\", TASKS_HEADER)\n",
        "ws_logs  = ensure_worksheet(sh, \"pomodoro_logs\", LOGS_HEADER)\n",
        "ws_clips = ensure_worksheet(sh, \"web_clips\", CLIPS_HEADER)\n"
      ],
      "metadata": {
        "id": "D0GH11YEQIkB"
      },
      "execution_count": 106,
      "outputs": []
    },
    {
      "cell_type": "code",
      "source": [
        "def tznow():\n",
        "    return dt.now(gettz(TIMEZONE))"
      ],
      "metadata": {
        "id": "gV2FTLttkRSM"
      },
      "execution_count": 107,
      "outputs": []
    },
    {
      "cell_type": "code",
      "source": [
        "def write_df(ws, df, header):\n",
        "    if df.empty:\n",
        "        ws.clear()\n",
        "        ws.update([header])\n",
        "        return\n",
        "    # 轉字串避免 gspread 型別問題\n",
        "    df_out = df.copy()\n",
        "    for c in df_out.columns:\n",
        "        df_out[c] = df_out[c].astype(str)\n",
        "    ws.clear()\n",
        "    ws.update([header] + df_out.values.tolist())\n"
      ],
      "metadata": {
        "id": "MoMhG7SvkWMf"
      },
      "execution_count": 108,
      "outputs": []
    },
    {
      "cell_type": "code",
      "source": [
        "def read_df(ws, header):\n",
        "    df = get_as_dataframe(ws, evaluate_formulas=True, header=0)\n",
        "    if df is None or df.empty:\n",
        "        return pd.DataFrame(columns=header)\n",
        "    df = df.fillna(\"\")\n",
        "    # 保證欄位齊全\n",
        "    for c in header:\n",
        "        if c not in df.columns:\n",
        "            df[c] = \"\"\n",
        "    # 型別微調\n",
        "    if \"est_min\" in df.columns:\n",
        "        df[\"est_min\"] = pd.to_numeric(df[\"est_min\"], errors=\"coerce\").fillna(0).astype(int)\n",
        "    if \"actual_min\" in df.columns:\n",
        "        df[\"actual_min\"] = pd.to_numeric(df[\"actual_min\"], errors=\"coerce\").fillna(0).astype(int)\n",
        "    if \"pomodoros\" in df.columns:\n",
        "        df[\"pomodoros\"] = pd.to_numeric(df[\"pomodoros\"], errors=\"coerce\").fillna(0).astype(int)\n",
        "    return df[header]"
      ],
      "metadata": {
        "id": "XF688NH_kh0y"
      },
      "execution_count": 109,
      "outputs": []
    },
    {
      "cell_type": "code",
      "source": [
        "def refresh_all():\n",
        "    return (\n",
        "        read_df(ws_tasks, TASKS_HEADER).copy(),\n",
        "        read_df(ws_logs, LOGS_HEADER).copy(),\n",
        "    )\n",
        "\n",
        "tasks_df, logs_df = refresh_all()\n",
        "# 重新定義 _refresh"
      ],
      "metadata": {
        "id": "wsUZ1hudkoeF"
      },
      "execution_count": 110,
      "outputs": []
    },
    {
      "cell_type": "code",
      "source": [
        "def refresh_all():\n",
        "    return (\n",
        "        read_df(ws_tasks, TASKS_HEADER).copy(),\n",
        "        read_df(ws_logs, LOGS_HEADER).copy(),\n",
        "    )\n",
        "\n",
        "tasks_df, logs_df = refresh_all()\n",
        "# 重新定義 _refresh"
      ],
      "metadata": {
        "id": "E7VRuSAYkpGn"
      },
      "execution_count": 111,
      "outputs": []
    },
    {
      "cell_type": "code",
      "source": [
        "def add_task(task, priority, est_min, due_date, labels, notes, planned_for):\n",
        "    global tasks_df\n",
        "    _now = tznow().isoformat()\n",
        "    new = pd.DataFrame([{\n",
        "        \"id\": str(uuid.uuid4())[:8],\n",
        "        \"task\": task.strip(),\n",
        "        \"status\": \"todo\",\n",
        "        \"priority\": priority or \"M\",\n",
        "        \"est_min\": int(est_min) if est_min else 25,\n",
        "        \"start_time\": \"\",\n",
        "        \"end_time\": \"\",\n",
        "        \"actual_min\": 0,\n",
        "        \"pomodoros\": 0,\n",
        "        \"due_date\": due_date or \"\",\n",
        "        \"labels\": labels or \"\",\n",
        "        \"notes\": notes or \"\",\n",
        "        \"created_at\": _now,\n",
        "        \"updated_at\": _now,\n",
        "        \"completed_at\": \"\",\n",
        "        \"planned_for\": planned_for or \"\"  # 可填 today / tomorrow / 空白\n",
        "    }])\n",
        "    tasks_df = pd.concat([tasks_df, new], ignore_index=True)\n",
        "    write_df(ws_tasks, tasks_df, TASKS_HEADER)\n",
        "    return \"✅ 已新增任務\", tasks_df"
      ],
      "metadata": {
        "id": "bNAnB7MkkzeB"
      },
      "execution_count": 112,
      "outputs": []
    },
    {
      "cell_type": "code",
      "source": [
        "def update_task_status(task_id, new_status):\n",
        "    global tasks_df\n",
        "    idx = tasks_df.index[tasks_df[\"id\"] == task_id]\n",
        "    if len(idx)==0:\n",
        "        return \"⚠️ 找不到任務\", tasks_df\n",
        "    i = idx[0]\n",
        "    tasks_df.loc[i, \"status\"] = new_status\n",
        "    tasks_df.loc[i, \"updated_at\"] = tznow().isoformat()\n",
        "    if new_status == \"done\" and not tasks_df.loc[i, \"completed_at\"]:\n",
        "        tasks_df.loc[i, \"completed_at\"] = tznow().isoformat()\n",
        "    write_df(ws_tasks, tasks_df, TASKS_HEADER)\n",
        "    return \"✅ 狀態已更新\", tasks_df"
      ],
      "metadata": {
        "id": "Wa60akTc2m2j"
      },
      "execution_count": 113,
      "outputs": []
    },
    {
      "cell_type": "code",
      "source": [
        "def mark_done(task_id):\n",
        "    return update_task_status(task_id, \"done\")"
      ],
      "metadata": {
        "id": "9bw8_DGDk8S9"
      },
      "execution_count": 114,
      "outputs": []
    },
    {
      "cell_type": "code",
      "source": [
        "def recalc_task_actuals(task_id):\n",
        "    \"\"\"根據 logs_df 回寫 actual_min 與 pomodoros\"\"\"\n",
        "    global tasks_df, logs_df\n",
        "    work_logs = logs_df[(logs_df[\"task_id\"]==task_id) & (logs_df[\"phase\"]==\"work\")]\n",
        "    total_min = work_logs[\"minutes\"].astype(float).sum() if not work_logs.empty else 0\n",
        "    pomos = int(round(total_min / 25.0))\n",
        "    idx = tasks_df.index[tasks_df[\"id\"]==task_id]\n",
        "    if len(idx)==0: return\n",
        "    i = idx[0]\n",
        "    tasks_df.loc[i,\"actual_min\"] = int(total_min)\n",
        "    tasks_df.loc[i,\"pomodoros\"] = pomos\n",
        "    tasks_df.loc[i,\"updated_at\"] = tznow().isoformat()"
      ],
      "metadata": {
        "id": "bwmsZkgalKXo"
      },
      "execution_count": 115,
      "outputs": []
    },
    {
      "cell_type": "code",
      "source": [
        "def list_task_choices():\n",
        "    global tasks_df\n",
        "    if tasks_df.empty:\n",
        "        return []\n",
        "    # 顯示： [status] (P:priority) task  — id\n",
        "    def row_label(r):\n",
        "        return f\"[{r['status']}] (P:{r['priority']}) {r['task']} — {r['id']}\"\n",
        "    return [(row_label(r), r[\"id\"]) for _, r in tasks_df.iterrows()]\n",
        "\n",
        "# 我們採「按鈕開始 / 結束」模式（避免後端阻塞），每次按「開始」會先記住 start_ts，\n",
        "# 按「結束」時計算分鐘並寫入 logs，再回填任務 actual_min / pomodoros。\n",
        "\n",
        "_active_sessions = {}  # { task_id: {\"phase\": \"work\"/\"break\", \"start_ts\": iso, \"cycles\": int} }"
      ],
      "metadata": {
        "id": "_R-_8N6VlUxI"
      },
      "execution_count": 116,
      "outputs": []
    },
    {
      "cell_type": "code",
      "source": [
        "def start_phase(task_id, phase, cycles):\n",
        "    if not task_id: return \"⚠️ 請先選擇任務\"\n",
        "    _active_sessions[task_id] = {\n",
        "        \"phase\": phase,\n",
        "        \"start_ts\": tznow().isoformat(),\n",
        "        \"cycles\": int(cycles) if cycles else 1\n",
        "    }\n",
        "    return f\"▶️ 已開始：{phase}（task: {task_id}）\""
      ],
      "metadata": {
        "id": "7IQQiyLRlaA9"
      },
      "execution_count": 117,
      "outputs": []
    },
    {
      "cell_type": "code",
      "source": [
        "def end_phase(task_id, note):\n",
        "    global logs_df, tasks_df\n",
        "    if task_id not in _active_sessions:\n",
        "        return \"⚠️ 尚未開始任何階段\"\n",
        "    sess = _active_sessions.pop(task_id)\n",
        "    start = pd.to_datetime(sess[\"start_ts\"])\n",
        "    end = tznow()\n",
        "    minutes = round((end - start).total_seconds() / 60.0, 2)\n",
        "    log = pd.DataFrame([{\n",
        "        \"log_id\": str(uuid.uuid4())[:8],\n",
        "        \"task_id\": task_id,\n",
        "        \"phase\": sess[\"phase\"],\n",
        "        \"start_ts\": start.isoformat(),\n",
        "        \"end_ts\": end.isoformat(),\n",
        "        \"minutes\": minutes,\n",
        "        \"cycles\": int(sess[\"cycles\"]),\n",
        "        \"note\": note or \"\"\n",
        "    }])\n",
        "    logs_df = pd.concat([logs_df, log], ignore_index=True)\n",
        "    write_df(ws_logs, logs_df, LOGS_HEADER)\n",
        "\n",
        "    # 回填任務\n",
        "    if sess[\"phase\"] == \"work\":\n",
        "        recalc_task_actuals(task_id)\n",
        "        write_df(ws_tasks, tasks_df, TASKS_HEADER)\n",
        "\n",
        "    return f\"⏹️ 已結束：{sess['phase']}，紀錄 {minutes} 分鐘\"\n"
      ],
      "metadata": {
        "id": "8Sd7wBVvliLy"
      },
      "execution_count": 118,
      "outputs": []
    },
    {
      "cell_type": "code",
      "source": [
        "# AI 計畫（Gemini；無金鑰則規則式）\n",
        "def generate_today_plan():\n",
        "    print(\"--- DEBUG: generate_today_plan 函數開始執行 ---\") # <-- 新增\n",
        "    global tasks_df\n",
        "    # 以「due_date 是今天」或「planned_for = today」且不是 done 的任務為計畫清單\n",
        "    today = tznow().date().isoformat()\n",
        "    cand = tasks_df[\n",
        "        ((tasks_df[\"due_date\"]==today) | (tasks_df[\"planned_for\"].str.lower()==\"today\")) &\n",
        "        (tasks_df[\"status\"]!=\"done\")\n",
        "    ].copy()\n",
        "    if cand.empty:\n",
        "        return \"📭 今天沒有標記的任務。請在 Tasks 分頁把任務的 due_date 設為今天或 planned_for 設為 today。\"\n",
        "\n",
        "    # 先依 priority（H>M>L）+ est_min 排序\n",
        "    pr_order = {\"H\":0, \"M\":1, \"L\":2}\n",
        "    cand[\"p_ord\"] = cand[\"priority\"].map(pr_order).fillna(3)\n",
        "    cand = cand.sort_values([\"p_ord\",\"est_min\"], ascending=[True, True])\n",
        "\n",
        "    # 嘗試 Gemini\n",
        "    # 🚨 修正：直接使用全域配置的 model，並檢查是否已配置\n",
        "    if genai.client.api_key:\n",
        "        sys_prompt = (\n",
        "            \"你是一位任務規劃助理。請把輸入的任務（含估時與優先級）排成三段：morning、afternoon、evening，\"\n",
        "            \"並給出每段的重點、順序、每項的時間預估與備註。總時數請大致符合任務估時總和。\"\n",
        "            \"回傳以 Markdown 條列，格式：\\n\"\n",
        "            \"### Morning\\n- [任務ID] 任務名稱（預估 xx 分）— 備註\\n...\"\n",
        "            \"### Afternoon\\n...\\n### Evening\\n...\\n\"\n",
        "        )\n",
        "        cand_top = cand.head(10)\n",
        "\n",
        "        items = []\n",
        "        for _, r in cand.iterrows():\n",
        "            items.append({\n",
        "                \"id\": r[\"id\"], \"task\": r[\"task\"], \"est_min\": int(r[\"est_min\"]),\n",
        "                \"priority\": r[\"priority\"]\n",
        "            })\n",
        "        user_content = json.dumps({\"today\": today, \"tasks\": items}, ensure_ascii=False)\n",
        "        try:\n",
        "            # 使用全域配置的 model\n",
        "            resp = model.generate_content(sys_prompt + \"\\n\\n\" + user_content)\n",
        "            plan_md = resp.text\n",
        "        except Exception as e:\n",
        "            plan_md = f\"⚠️ Gemini 失敗：{e}\\n\\n改用規則式規劃。\"\n",
        "    else:\n",
        "        # 如果 genai.client.api_key 為空，表示開頭配置就失敗了\n",
        "        plan_md = \"🔧 GEMINI API KEY 配置失敗，使用規則式規劃。\\n\\n\"\n",
        "\n",
        "    # 規則式：把高優先任務平均切到上午/下午/晚上\n",
        "    buckets = {\"morning\": [], \"afternoon\": [], \"evening\": []}\n",
        "    total = len(cand)\n",
        "    for i, (_, r) in enumerate(cand.iterrows()):\n",
        "        if i % 3 == 0:\n",
        "            buckets[\"morning\"].append(r)\n",
        "        elif i % 3 == 1:\n",
        "            buckets[\"afternoon\"].append(r)\n",
        "        else:\n",
        "            buckets[\"evening\"].append(r)\n",
        "\n",
        "    def sec_md(name, rows):\n",
        "        if not rows: return f\"### {name.title()}\\n（無）\\n\"\n",
        "        lines = [f\"### {name.title()}\"]\n",
        "        for r in rows:\n",
        "            lines.append(f\"- [{r['id']}] {r['task']}（預估 {int(r['est_min'])} 分，P:{r['priority']}）\")\n",
        "        return \"\\n\".join(lines) + \"\\n\"\n",
        "\n",
        "    rule_md = sec_md(\"morning\", buckets[\"morning\"]) + \"\\n\" + \\\n",
        "              sec_md(\"afternoon\", buckets[\"afternoon\"]) + \"\\n\" + \\\n",
        "              sec_md(\"evening\", buckets[\"evening\"])\n",
        "\n",
        "    print(\"--- DEBUG: generate_today_plan 函數結束 ---\") # <-- 新增\n",
        "    return (plan_md + \"\\n---\\n\" + rule_md).strip()"
      ],
      "metadata": {
        "id": "0qWRcMxbluRL"
      },
      "execution_count": 119,
      "outputs": []
    },
    {
      "cell_type": "code",
      "source": [
        "# 今日完成率\n",
        "def today_summary():\n",
        "    global tasks_df\n",
        "    today = tznow().date().isoformat()\n",
        "    planned = tasks_df[\n",
        "        ((tasks_df[\"due_date\"]==today) | (tasks_df[\"planned_for\"].str.lower()==\"today\"))\n",
        "    ]\n",
        "    done = planned[planned[\"status\"]==\"done\"]\n",
        "    total = len(planned)\n",
        "    done_n = len(done)\n",
        "    rate = (done_n/total*100) if total>0 else 0\n",
        "    return f\"📅 今日計畫任務：{total}；✅ 完成：{done_n}；📈 完成率：{rate:.1f}%\""
      ],
      "metadata": {
        "id": "U4AmK7h4l1KP"
      },
      "execution_count": 120,
      "outputs": []
    },
    {
      "cell_type": "code",
      "source": [
        "def add_clips_as_tasks(clip_ids, default_priority, est_min):\n",
        "    global clips_df, tasks_df\n",
        "    if not clip_ids:\n",
        "        return \"⚠️ 請先勾選要加入的爬蟲項目\", clips_df, tasks_df\n",
        "    sel = clips_df[clips_df[\"clip_id\"].isin(clip_ids)]\n",
        "    _now = tznow().isoformat()\n",
        "    new_tasks = []\n",
        "    for _, r in sel.iterrows():\n",
        "        title = r[\"text\"] or r[\"href\"] or \"（未命名）\"\n",
        "        note = f\"來源：{r['url']}\\n選擇器：{r['selector']}\\n連結：{r['href']}\"\n",
        "        new_tasks.append({\n",
        "            \"id\": str(uuid.uuid4())[:8],\n",
        "            \"task\": title[:120],\n",
        "            \"status\": \"todo\",\n",
        "            \"priority\": default_priority or \"M\",\n",
        "            \"est_min\": int(est_min) if est_min else 25,\n",
        "            \"start_time\": \"\",\n",
        "            \"end_time\": \"\",\n",
        "            \"actual_min\": 0,\n",
        "            \"pomodoros\": 0,\n",
        "            \"due_date\": \"\",\n",
        "            \"labels\": \"from:crawler\",\n",
        "            \"notes\": note,\n",
        "            \"created_at\": _now,\n",
        "            \"updated_at\": _now,\n",
        "            \"completed_at\": \"\",\n",
        "            \"planned_for\": \"\"\n",
        "        })\n",
        "    if new_tasks:\n",
        "        tasks_df = pd.concat([tasks_df, pd.DataFrame(new_tasks)], ignore_index=True)\n",
        "        # 標記已加入\n",
        "        clips_df.loc[clips_df[\"clip_id\"].isin(clip_ids), \"added_to_task\"] = \"yes\"\n",
        "        write_df(ws_tasks, tasks_df, TASKS_HEADER)\n",
        "        write_df(ws_clips, clips_df, CLIPS_HEADER)\n",
        "        return f\"✅ 已加入 {len(new_tasks)} 項為任務\", clips_df, tasks_df\n",
        "    return \"⚠️ 無可加入項目\", clips_df, tasks_df"
      ],
      "metadata": {
        "id": "HqqKeEmVmF4D"
      },
      "execution_count": 121,
      "outputs": []
    },
    {
      "cell_type": "code",
      "source": [
        "def _refresh():\n",
        "    global tasks_df, logs_df\n",
        "    tasks_df, logs_df = refresh_all()\n",
        "\n",
        "    # 準備輸出\n",
        "    task_choices = list_task_choices()\n",
        "    summary_text = today_summary()\n",
        "\n",
        "    # 返回時，明確複製 DFs，確保 Gradio 認為它們是新的值，強制更新 DataGrid\n",
        "    return (\n",
        "        tasks_df.copy(),        # 1. grid_tasks\n",
        "        logs_df.copy(),         # 2. grid_logs\n",
        "        task_choices,           # 3. task_choice (Tasks 更新狀態)\n",
        "        summary_text,           # 4. out_summary (頂部摘要)\n",
        "        summary_text,           # 5. out_summary2 (Summary 頁面摘要)\n",
        "        task_choices,           # 6. sel_task (Pomodoro 選單)\n",
        "        task_choices,           # 7. task_to_delete (Delete 選單)\n",
        "        task_choices            # 8. task_choice (冗餘，但為匹配 Gradio 綁定)\n",
        "    )"
      ],
      "metadata": {
        "id": "T_yaaOYnmKSs"
      },
      "execution_count": 122,
      "outputs": []
    },
    {
      "cell_type": "code",
      "source": [
        "# -----------------------------------------------------------\n",
        "# 刪除任務 (Delete Task)\n",
        "# -----------------------------------------------------------\n",
        "def delete_task(task_id):\n",
        "    global tasks_df\n",
        "    idx = tasks_df.index[tasks_df[\"id\"] == task_id]\n",
        "    if len(idx) == 0:\n",
        "        return \"⚠️ 找不到任務\", tasks_df.copy()\n",
        "\n",
        "    # 刪除該行\n",
        "    tasks_df = tasks_df.drop(idx).reset_index(drop=True)\n",
        "\n",
        "    # 寫回 Google Sheet\n",
        "    write_df(ws_tasks, tasks_df, TASKS_HEADER)\n",
        "\n",
        "    return f\"✅ 任務 {task_id} 已刪除\", tasks_df.copy()"
      ],
      "metadata": {
        "id": "w-2xiDLIzIsL"
      },
      "execution_count": 123,
      "outputs": []
    },
    {
      "cell_type": "code",
      "source": [
        "# -----------------------------------------------------------\n",
        "# 查詢強化 (Query Tasks)\n",
        "# -----------------------------------------------------------\n",
        "def query_tasks(status_filter, start_date, end_date):\n",
        "    \"\"\"根據狀態和時間範圍篩選任務\"\"\"\n",
        "    filtered_df = tasks_df.copy()\n",
        "\n",
        "    # 1. 狀態篩選\n",
        "    if status_filter and status_filter != \"all\":\n",
        "        filtered_df = filtered_df[filtered_df[\"status\"] == status_filter]\n",
        "\n",
        "    # 2. 時間範圍篩選 (針對 completed_at)\n",
        "    if start_date or end_date:\n",
        "        filtered_df['completed_at_dt'] = pd.to_datetime(\n",
        "            filtered_df['completed_at'], errors='coerce', utc=True\n",
        "        ).dt.tz_convert(gettz(TIMEZONE))\n",
        "\n",
        "        # 處理開始日期\n",
        "        if start_date:\n",
        "            start_dt = pd.to_datetime(start_date).tz_localize(gettz(TIMEZONE)).normalize()\n",
        "            filtered_df = filtered_df[filtered_df['completed_at_dt'] >= start_dt]\n",
        "\n",
        "        # 處理結束日期\n",
        "        if end_date:\n",
        "            end_dt = pd.to_datetime(end_date).tz_localize(gettz(TIMEZONE)).normalize() + timedelta(days=1)\n",
        "            filtered_df = filtered_df[filtered_df['completed_at_dt'] < end_dt]\n",
        "\n",
        "        filtered_df = filtered_df.drop(columns=['completed_at_dt'])\n",
        "\n",
        "    # 限制欄位顯示\n",
        "    display_cols = [\"id\",\"task\",\"status\",\"priority\",\"est_min\",\"actual_min\",\"completed_at\"]\n",
        "    return filtered_df[display_cols]"
      ],
      "metadata": {
        "id": "HB-rycfczJzt"
      },
      "execution_count": 124,
      "outputs": []
    },
    {
      "cell_type": "code",
      "source": [
        "import io # 需要 io 函式庫來處理字串 I/O\n",
        "\n",
        "# -----------------------------------------------------------\n",
        "# 匯出資料 (Export Data)\n",
        "# -----------------------------------------------------------\n",
        "def export_data(format_type):\n",
        "    \"\"\"將任務資料匯出為 CSV 或 JSON 格式字串\"\"\"\n",
        "    if tasks_df.empty:\n",
        "        return None, \"⚠️ 任務清單為空，無法匯出\"\n",
        "\n",
        "    # 清理不必要的欄位，如 created_at/updated_at 等，以簡化匯出\n",
        "    export_cols = [c for c in tasks_df.columns if c not in [\"created_at\",\"updated_at\",\"completed_at\"]]\n",
        "    df_out = tasks_df[export_cols].copy()\n",
        "\n",
        "    if format_type == \"csv\":\n",
        "        # 使用 io.StringIO 儲存為字串，模擬檔案內容\n",
        "        csv_buffer = io.StringIO()\n",
        "        df_out.to_csv(csv_buffer, index=False, encoding='utf-8')\n",
        "        return csv_buffer.getvalue(), f\"✅ 已匯出 {len(df_out)} 筆任務 (CSV)\"\n",
        "\n",
        "    elif format_type == \"json\":\n",
        "        json_str = df_out.to_json(orient='records', indent=2, force_ascii=False)\n",
        "        return json_str, f\"✅ 已匯出 {len(df_out)} 筆任務 (JSON)\"\n",
        "\n",
        "    return None, \"⚠️ 不支援的匯出格式\""
      ],
      "metadata": {
        "id": "oSJPw1f0zYSA"
      },
      "execution_count": 125,
      "outputs": []
    },
    {
      "cell_type": "code",
      "source": [
        "# -----------------------------------------------------------\n",
        "# 匯入資料 (Import Data)\n",
        "# -----------------------------------------------------------\n",
        "def import_data(file_obj, format_type):\n",
        "    \"\"\"從上傳的 CSV/JSON 檔案匯入資料\"\"\"\n",
        "    global tasks_df\n",
        "\n",
        "    if file_obj is None:\n",
        "        return tasks_df.copy(), \"⚠️ 請先上傳檔案\"\n",
        "\n",
        "    try:\n",
        "        if format_type == \"csv\":\n",
        "            new_df = pd.read_csv(file_obj.name)\n",
        "        elif format_type == \"json\":\n",
        "            new_df = pd.read_json(file_obj.name)\n",
        "        else:\n",
        "            return tasks_df.copy(), \"⚠️ 不支援的匯入格式\"\n",
        "\n",
        "        # 確保新舊 DF 欄位一致\n",
        "        missing_cols = [c for c in TASKS_HEADER if c not in new_df.columns]\n",
        "        for c in missing_cols:\n",
        "            new_df[c] = \"\"\n",
        "\n",
        "        # 覆蓋或合併 (這裡採用覆蓋所有欄位，但保留原有 ID)\n",
        "        new_df = new_df[TASKS_HEADER]\n",
        "\n",
        "        # 確保 ID 唯一，沒有 ID 的產生新 ID，有衝突的跳過（簡化處理）\n",
        "        new_df['id'] = new_df['id'].apply(lambda x: str(uuid.uuid4())[:8] if not x else x)\n",
        "\n",
        "        # 寫入邏輯：這裡假設是覆蓋式匯入 (即用新資料取代舊資料)\n",
        "        tasks_df = new_df.copy()\n",
        "        write_df(ws_tasks, tasks_df, TASKS_HEADER)\n",
        "\n",
        "        return tasks_df.copy(), f\"✅ 成功匯入 {len(new_df)} 筆任務並已寫回 Sheet\"\n",
        "\n",
        "    except Exception as e:\n",
        "        return tasks_df.copy(), f\"❌ 匯入失敗：{e}\""
      ],
      "metadata": {
        "id": "6zGGGfYfzZlh"
      },
      "execution_count": 126,
      "outputs": []
    },
    {
      "cell_type": "code",
      "source": [
        "import plotly.express as px\n",
        "import plotly.graph_objects as go\n",
        "# Gradio 需要 plotly 的 figure 作為輸出\n",
        "\n",
        "def get_viz_data():\n",
        "    \"\"\"計算視覺化所需的統計數據\"\"\"\n",
        "    if tasks_df.empty:\n",
        "        return None, None\n",
        "\n",
        "    df_viz = tasks_df.copy()\n",
        "\n",
        "    # 確保 est_min 和 actual_min 是數字\n",
        "    df_viz[\"est_min\"] = pd.to_numeric(df_viz[\"est_min\"], errors=\"coerce\").fillna(0)\n",
        "    df_viz[\"actual_min\"] = pd.to_numeric(df_viz[\"actual_min\"], errors=\"coerce\").fillna(0)\n",
        "\n",
        "    # 任務狀態計數\n",
        "    status_counts = df_viz.groupby(\"status\").size().reset_index(name=\"count\")\n",
        "\n",
        "    # 優先級時間統計\n",
        "    time_stats = df_viz.groupby(\"priority\")[[\"est_min\", \"actual_min\"]].sum().reset_index()\n",
        "    time_stats = time_stats.melt(\n",
        "        id_vars=\"priority\",\n",
        "        value_vars=[\"est_min\", \"actual_min\"],\n",
        "        var_name=\"Type\",\n",
        "        value_name=\"Minutes\"\n",
        "    )\n",
        "    return status_counts, time_stats\n",
        "\n",
        "def create_status_pie_chart():\n",
        "    \"\"\"創建任務狀態圓餅圖\"\"\"\n",
        "    status_counts, _ = get_viz_data()\n",
        "    if status_counts is None:\n",
        "        return go.Figure().add_annotation(text=\"無任務數據\", showarrow=False)\n",
        "\n",
        "    fig = px.pie(\n",
        "        status_counts,\n",
        "        values='count',\n",
        "        names='status',\n",
        "        title='任務狀態分佈',\n",
        "        color='status',\n",
        "        color_discrete_map={\n",
        "             'todo':'#EF553B', 'in-progress':'#00CC96', 'done':'#636EFA'\n",
        "        }\n",
        "    )\n",
        "    return fig\n",
        "\n",
        "def create_time_bar_chart():\n",
        "    \"\"\"創建優先級時間柱狀圖（預估 vs 實際）\"\"\"\n",
        "    _, time_stats = get_viz_data()\n",
        "    if time_stats is None:\n",
        "        # 🚨 修正：確保在數據為空時返回一個 Plotly Figure\n",
        "        return go.Figure().add_annotation(text=\"無任務數據\", showarrow=False)\n",
        "\n",
        "    fig = px.bar(\n",
        "        time_stats,\n",
        "        x=\"priority\",\n",
        "        y=\"Minutes\",\n",
        "        color=\"Type\",\n",
        "        barmode=\"group\",\n",
        "        title=\"優先級別時間統計 (預估 vs 實際)\",\n",
        "        labels={\"priority\": \"優先級\", \"Minutes\": \"總分鐘數\"},\n",
        "        category_orders={\"priority\": [\"H\", \"M\", \"L\"]}\n",
        "    )\n",
        "    return fig"
      ],
      "metadata": {
        "id": "dbvB5vHYzjbS"
      },
      "execution_count": 127,
      "outputs": []
    },
    {
      "cell_type": "code",
      "source": [
        "print(tasks_df[\"est_min\"].dtype)\n",
        "print(tasks_df[\"actual_min\"].dtype)"
      ],
      "metadata": {
        "colab": {
          "base_uri": "https://localhost:8080/"
        },
        "id": "4ZW2iBFf8vKK",
        "outputId": "05e9af17-25b2-45d7-f1e1-f347b7f2f313"
      },
      "execution_count": 128,
      "outputs": [
        {
          "output_type": "stream",
          "name": "stdout",
          "text": [
            "int64\n",
            "int64\n"
          ]
        }
      ]
    },
    {
      "cell_type": "code",
      "source": [
        "# -----------------------------------------------------------\n",
        "# 臨時測試函數\n",
        "# -----------------------------------------------------------\n",
        "def test_button_response():\n",
        "    \"\"\"確認按鈕點擊事件是否到達後端\"\"\"\n",
        "    import time\n",
        "\n",
        "    # 🚨 輸出到 Colab 控制台 (確認後端函數有被執行)\n",
        "    print(f\"--- DEBUG: AI Plan 按鈕被點擊 (Time: {time.time()}) ---\")\n",
        "\n",
        "    # 🚨 返回給 Gradio 介面 (確認前端輸出有被更新)\n",
        "    return \"✅ 按鈕點擊成功！後端函數已執行。現在可以調用 AI 邏輯了。\""
      ],
      "metadata": {
        "id": "fEc7Ji5cFA-d"
      },
      "execution_count": 129,
      "outputs": []
    },
    {
      "cell_type": "code",
      "source": [
        "# =========================\n",
        "# Gradio 介面\n",
        "# =========================\n",
        "\n",
        "with gr.Blocks(title=\"待辦清單＋番茄鐘＋AI 計畫 (升級版)\") as demo:\n",
        "    gr.Markdown(\"# ✅ 待辦清單與番茄鐘 (Google Sheet＋Gradio＋AI Planner)\")\n",
        "    with gr.Row():\n",
        "        # 移除 clips_df，更新 _refresh 綁定\n",
        "        btn_refresh = gr.Button(\"🔄 重新整理（Sheet → App）\")\n",
        "        out_summary = gr.Markdown(today_summary())\n",
        "\n",
        "    with gr.Tab(\"Tasks\"):\n",
        "        with gr.Row():\n",
        "            with gr.Column(scale=2):\n",
        "                task = gr.Textbox(label=\"任務名稱\", placeholder=\"寫 HW3 報告 / 修正 SQL / …\")\n",
        "                priority = gr.Dropdown([\"H\",\"M\",\"L\"], value=\"M\", label=\"優先級\")\n",
        "                est_min = gr.Number(value=25, label=\"預估時間（分鐘）\", precision=0)\n",
        "                due_date = gr.Textbox(label=\"到期日（YYYY-MM-DD，可空白）\")\n",
        "                labels = gr.Textbox(label=\"標籤（逗號分隔，可空白）\")\n",
        "                notes = gr.Textbox(label=\"備註（可空白）\")\n",
        "                planned_for = gr.Dropdown([\"\",\"today\",\"tomorrow\"], value=\"\", label=\"規劃歸屬\")\n",
        "                btn_add = gr.Button(\"➕ 新增任務\")\n",
        "                msg_add = gr.Markdown()\n",
        "            with gr.Column(scale=3):\n",
        "                grid_tasks = gr.Dataframe(value=tasks_df, label=\"任務清單（直接從 Sheet 來）\", interactive=False)\n",
        "\n",
        "        with gr.Row():\n",
        "            task_choice = gr.Dropdown(choices=list_task_choices(), label=\"選取任務（用於更新）\")\n",
        "            new_status = gr.Dropdown([\"todo\",\"in-progress\",\"done\"], value=\"in-progress\", label=\"更新狀態\")\n",
        "            btn_update = gr.Button(\"✏️ 更新狀態\")\n",
        "            btn_done = gr.Button(\"✅ 直接標記完成\")\n",
        "            msg_update = gr.Markdown()\n",
        "        gr.Markdown(\"---\")\n",
        "        gr.Markdown(\"### 🗑️ 刪除任務\")\n",
        "        with gr.Row():\n",
        "            task_to_delete = gr.Dropdown(choices=list_task_choices(), label=\"選取要刪除的任務\")\n",
        "            btn_delete = gr.Button(\"❌ 刪除選取的任務\")\n",
        "            msg_delete = gr.Markdown()\n",
        "\n",
        "    with gr.Tab(\"Pomodoro\"):\n",
        "        with gr.Row():\n",
        "            sel_task = gr.Dropdown(choices=list_task_choices(), label=\"選擇任務\")\n",
        "            cycles = gr.Number(value=1, precision=0, label=\"番茄數（僅作紀錄）\")\n",
        "        with gr.Row():\n",
        "            btn_start_work = gr.Button(\"▶️ 開始工作\")\n",
        "            note_work = gr.Textbox(label=\"工作備註（可空白）\")\n",
        "            btn_end_work = gr.Button(\"⏹️ 結束工作並記錄\")\n",
        "        with gr.Row():\n",
        "            btn_start_break = gr.Button(\"🍵 開始休息\")\n",
        "            note_break = gr.Textbox(label=\"休息備註（可空白）\")\n",
        "            btn_end_break = gr.Button(\"⏹️ 結束休息並記錄\")\n",
        "        msg_pomo = gr.Markdown()\n",
        "        grid_logs = gr.Dataframe(value=logs_df, label=\"番茄鐘紀錄\", interactive=False)\n",
        "\n",
        "    with gr.Tab(\"AI Plan\"):\n",
        "        gr.Markdown(\"把**今天的任務**排成 **morning / afternoon / evening** 三段行動計畫。若未設 GEMINI_API_KEY，會用規則式。\")\n",
        "        btn_plan = gr.Button(\"🧠 產生今日計畫\")\n",
        "        out_plan = gr.Markdown()\n",
        "        # 🚨 在這裡加入一個臨時輸出，用於顯示按鈕是否被觸發\n",
        "        #debug_output = gr.Markdown(visible=True) # 新增一個元件來顯示測試結果\n",
        "        # 🚨 注意：您需要在 with gr.Blocks 內部的頂部定義 debug_output\n",
        "\n",
        "    with gr.Tab(\"Query\"):\n",
        "        gr.Markdown(\"### 🔍 任務查詢\")\n",
        "        with gr.Row():\n",
        "            q_status = gr.Radio([\"all\", \"todo\", \"in-progress\", \"done\"], value=\"all\", label=\"狀態篩選\")\n",
        "            q_start_date = gr.Textbox(label=\"完成起始日期 (YYYY-MM-DD)\", placeholder=\"2025-01-01\")\n",
        "            q_end_date = gr.Textbox(label=\"完成結束日期 (YYYY-MM-DD)\", placeholder=\"2025-12-31\")\n",
        "            btn_query = gr.Button(\"執行查詢\")\n",
        "        grid_query = gr.Dataframe(label=\"查詢結果\", interactive=False)\n",
        "\n",
        "    with gr.Tab(\"Summary\"):\n",
        "        btn_summary = gr.Button(\"📊 重新計算今日完成率\")\n",
        "        out_summary2 = gr.Markdown()\n",
        "\n",
        "    with gr.Tab(\"Data Management\"):\n",
        "        gr.Markdown(\"### 📥 匯入資料 (Import)\")\n",
        "        with gr.Row():\n",
        "            file_to_import = gr.File(label=\"上傳 CSV/JSON 任務檔案\")\n",
        "            import_format = gr.Radio([\"csv\", \"json\"], value=\"csv\", label=\"檔案格式\")\n",
        "            btn_import = gr.Button(\"⬆️ 匯入並更新 Sheet\")\n",
        "        msg_import = gr.Markdown()\n",
        "\n",
        "        gr.Markdown(\"### 📤 匯出資料 (Export to CSV/JSON)\")\n",
        "        with gr.Row():\n",
        "            export_format = gr.Radio([\"csv\", \"json\"], value=\"csv\", label=\"檔案格式\")\n",
        "            btn_export = gr.Button(\"⬇️ 匯出任務清單\")\n",
        "            file_export = gr.File(label=\"下載檔案\")\n",
        "        msg_export = gr.Markdown()\n",
        "\n",
        "    with gr.Tab(\"Visualization\"):\n",
        "        gr.Markdown(\"### 📊 統計圖表\")\n",
        "        plot_status = gr.Plot(label=\"任務狀態分佈\")\n",
        "        plot_time = gr.Plot(label=\"優先級時間統計\")\n",
        "        btn_viz = gr.Button(\"📈 產生視覺化圖表\")\n",
        "\n",
        "    with gr.Tab(\"Summary\"):\n",
        "        btn_summary = gr.Button(\"📊 重新計算今日完成率\")\n",
        "        out_summary2 = gr.Markdown()\n",
        "\n",
        "    # === 綁定動作 ===\n",
        "    # 修改後（注意 _refresh 也要修改）：\n",
        "    btn_refresh.click(\n",
        "         _refresh,\n",
        "         outputs=[\n",
        "             grid_tasks,# 1. tasks_df.copy()\n",
        "             grid_logs,# 2. logs_df.copy()\n",
        "             task_choice,# 3. task_choices (Tasks 更新)\n",
        "             out_summary,# 4. summary_text (頂部摘要)\n",
        "             out_summary2,# 5. summary_text (Summary 頁面)\n",
        "             sel_task,# 6. task_choices (Pomodoro)\n",
        "             task_to_delete,# 7. task_choices (Delete)\n",
        "             task_choice# 8. task_choices (冗餘，但為匹配)\n",
        "             ]\n",
        "         )\n",
        "\n",
        "    btn_add.click(\n",
        "        add_task,\n",
        "        inputs=[task, priority, est_min, due_date, labels, notes, planned_for],\n",
        "        outputs=[msg_add, grid_tasks]\n",
        "    )\n",
        "\n",
        "    btn_update.click(\n",
        "        update_task_status,\n",
        "        inputs=[task_choice, new_status],\n",
        "        outputs=[msg_update, grid_tasks]\n",
        "    )\n",
        "\n",
        "    btn_done.click(\n",
        "        mark_done,\n",
        "        inputs=[task_choice],\n",
        "        outputs=[msg_update, grid_tasks]\n",
        "    )\n",
        "\n",
        "    btn_start_work.click(\n",
        "        start_phase, inputs=[sel_task, gr.State(\"work\"), cycles], outputs=[msg_pomo]\n",
        "    )\n",
        "    btn_end_work.click(\n",
        "        end_phase, inputs=[sel_task, note_work], outputs=[msg_pomo]\n",
        "    )\n",
        "    btn_start_break.click(\n",
        "        start_phase, inputs=[sel_task, gr.State(\"break\"), cycles], outputs=[msg_pomo]\n",
        "    )\n",
        "    btn_end_break.click(\n",
        "        end_phase, inputs=[sel_task, note_break], outputs=[msg_pomo]\n",
        "    )\n",
        "\n",
        "    btn_plan.click(\n",
        "    generate_today_plan,\n",
        "    #test_button_response,\n",
        "    inputs=[],\n",
        "    outputs=[out_plan] # 輸出到新的 debug_output 元件\n",
        "    )\n",
        "\n",
        "    # 綁定新的刪除功能\n",
        "    btn_delete.click(\n",
        "        delete_task,\n",
        "        inputs=[task_to_delete],\n",
        "        outputs=[msg_delete, grid_tasks]\n",
        "    )\n",
        "\n",
        "    # 綁定查詢功能\n",
        "    btn_query.click(\n",
        "        query_tasks,\n",
        "        inputs=[q_status, q_start_date, q_end_date],\n",
        "        outputs=[grid_query]\n",
        "    )\n",
        "\n",
        "    # 綁定匯出功能\n",
        "    btn_export.click(\n",
        "        export_data,\n",
        "        inputs=[export_format],\n",
        "        outputs=[file_export, msg_export],\n",
        "        api_name=\"export\"\n",
        "    )\n",
        "\n",
        "    # 綁定匯入功能\n",
        "    btn_import.click(\n",
        "        import_data,\n",
        "        inputs=[file_to_import, import_format],\n",
        "        outputs=[grid_tasks, msg_import]\n",
        "    )\n",
        "\n",
        "    # 綁定視覺化功能\n",
        "    btn_viz.click(\n",
        "        lambda: [create_status_pie_chart(), create_time_bar_chart()],\n",
        "        outputs=[plot_status, plot_time]\n",
        "    )\n",
        "\n",
        "    btn_summary.click(today_summary, outputs=[out_summary2])"
      ],
      "metadata": {
        "id": "PiDCtj5EmLH-"
      },
      "execution_count": 130,
      "outputs": []
    },
    {
      "cell_type": "code",
      "source": [
        "demo.queue()\n",
        "demo.launch()"
      ],
      "metadata": {
        "colab": {
          "base_uri": "https://localhost:8080/",
          "height": 645
        },
        "id": "zi_N_q5AmXRW",
        "outputId": "7af36010-6fc2-4c56-9a4f-1e1be403cd61"
      },
      "execution_count": 131,
      "outputs": [
        {
          "output_type": "stream",
          "name": "stdout",
          "text": [
            "It looks like you are running Gradio on a hosted Jupyter notebook, which requires `share=True`. Automatically setting `share=True` (you can turn this off by setting `share=False` in `launch()` explicitly).\n",
            "\n",
            "Colab notebook detected. To show errors in colab notebook, set debug=True in launch()\n",
            "* Running on public URL: https://f1f1e97feef772c70f.gradio.live\n",
            "\n",
            "This share link expires in 1 week. For free permanent hosting and GPU upgrades, run `gradio deploy` from the terminal in the working directory to deploy to Hugging Face Spaces (https://huggingface.co/spaces)\n"
          ]
        },
        {
          "output_type": "display_data",
          "data": {
            "text/plain": [
              "<IPython.core.display.HTML object>"
            ],
            "text/html": [
              "<div><iframe src=\"https://f1f1e97feef772c70f.gradio.live\" width=\"100%\" height=\"500\" allow=\"autoplay; camera; microphone; clipboard-read; clipboard-write;\" frameborder=\"0\" allowfullscreen></iframe></div>"
            ]
          },
          "metadata": {}
        },
        {
          "output_type": "execute_result",
          "data": {
            "text/plain": []
          },
          "metadata": {},
          "execution_count": 131
        }
      ]
    }
  ]
}