{
  "nbformat": 4,
  "nbformat_minor": 0,
  "metadata": {
    "colab": {
      "provenance": [],
      "authorship_tag": "ABX9TyPt32dFN39TV3KTS+mxVgzB",
      "include_colab_link": true
    },
    "kernelspec": {
      "name": "python3",
      "display_name": "Python 3"
    },
    "language_info": {
      "name": "python"
    }
  },
  "cells": [
    {
      "cell_type": "markdown",
      "metadata": {
        "id": "view-in-github",
        "colab_type": "text"
      },
      "source": [
        "<a href=\"https://colab.research.google.com/github/41371131h-chi/114-1-/blob/main/HW3.ipynb\" target=\"_parent\"><img src=\"https://colab.research.google.com/assets/colab-badge.svg\" alt=\"Open In Colab\"/></a>"
      ]
    },
    {
      "cell_type": "markdown",
      "source": [
        "#待辦清單與番茄鐘紀錄（作業三）\n",
        "* 目標：在 Sheet 維護 To-do（狀態、預估時間、完成時間）→ Colab 輸出今日計畫與完成率 → 寫回完成標記。\n",
        "* AI 點子：讓模型把今日任務排成三段行動計畫（morning/afternoon/evening）。\n",
        "* google sheet:https://docs.google.com/spreadsheets/d/1nuhUMYejx4I0uq-2Fro6Bjlpd0H1VW0ecVyKXM1AePA/edit?usp=sharing"
      ],
      "metadata": {
        "id": "5mWpY_--fCpO"
      }
    },
    {
      "cell_type": "code",
      "source": [
        "# 1. 安裝 Google GenAI SDK\n",
        "!pip install google-genai"
      ],
      "metadata": {
        "colab": {
          "base_uri": "https://localhost:8080/"
        },
        "id": "LGFXEuIht87m",
        "outputId": "71fbae7d-aa8f-4768-e48f-683fffa1a033"
      },
      "execution_count": 1,
      "outputs": [
        {
          "output_type": "stream",
          "name": "stdout",
          "text": [
            "Requirement already satisfied: google-genai in /usr/local/lib/python3.12/dist-packages (1.39.1)\n",
            "Requirement already satisfied: anyio<5.0.0,>=4.8.0 in /usr/local/lib/python3.12/dist-packages (from google-genai) (4.11.0)\n",
            "Requirement already satisfied: google-auth<3.0.0,>=2.14.1 in /usr/local/lib/python3.12/dist-packages (from google-genai) (2.38.0)\n",
            "Requirement already satisfied: httpx<1.0.0,>=0.28.1 in /usr/local/lib/python3.12/dist-packages (from google-genai) (0.28.1)\n",
            "Requirement already satisfied: pydantic<3.0.0,>=2.0.0 in /usr/local/lib/python3.12/dist-packages (from google-genai) (2.11.9)\n",
            "Requirement already satisfied: requests<3.0.0,>=2.28.1 in /usr/local/lib/python3.12/dist-packages (from google-genai) (2.32.4)\n",
            "Requirement already satisfied: tenacity<9.2.0,>=8.2.3 in /usr/local/lib/python3.12/dist-packages (from google-genai) (8.5.0)\n",
            "Requirement already satisfied: websockets<15.1.0,>=13.0.0 in /usr/local/lib/python3.12/dist-packages (from google-genai) (15.0.1)\n",
            "Requirement already satisfied: typing-extensions<5.0.0,>=4.11.0 in /usr/local/lib/python3.12/dist-packages (from google-genai) (4.15.0)\n",
            "Requirement already satisfied: idna>=2.8 in /usr/local/lib/python3.12/dist-packages (from anyio<5.0.0,>=4.8.0->google-genai) (3.10)\n",
            "Requirement already satisfied: sniffio>=1.1 in /usr/local/lib/python3.12/dist-packages (from anyio<5.0.0,>=4.8.0->google-genai) (1.3.1)\n",
            "Requirement already satisfied: cachetools<6.0,>=2.0.0 in /usr/local/lib/python3.12/dist-packages (from google-auth<3.0.0,>=2.14.1->google-genai) (5.5.2)\n",
            "Requirement already satisfied: pyasn1-modules>=0.2.1 in /usr/local/lib/python3.12/dist-packages (from google-auth<3.0.0,>=2.14.1->google-genai) (0.4.2)\n",
            "Requirement already satisfied: rsa<5,>=3.1.4 in /usr/local/lib/python3.12/dist-packages (from google-auth<3.0.0,>=2.14.1->google-genai) (4.9.1)\n",
            "Requirement already satisfied: certifi in /usr/local/lib/python3.12/dist-packages (from httpx<1.0.0,>=0.28.1->google-genai) (2025.8.3)\n",
            "Requirement already satisfied: httpcore==1.* in /usr/local/lib/python3.12/dist-packages (from httpx<1.0.0,>=0.28.1->google-genai) (1.0.9)\n",
            "Requirement already satisfied: h11>=0.16 in /usr/local/lib/python3.12/dist-packages (from httpcore==1.*->httpx<1.0.0,>=0.28.1->google-genai) (0.16.0)\n",
            "Requirement already satisfied: annotated-types>=0.6.0 in /usr/local/lib/python3.12/dist-packages (from pydantic<3.0.0,>=2.0.0->google-genai) (0.7.0)\n",
            "Requirement already satisfied: pydantic-core==2.33.2 in /usr/local/lib/python3.12/dist-packages (from pydantic<3.0.0,>=2.0.0->google-genai) (2.33.2)\n",
            "Requirement already satisfied: typing-inspection>=0.4.0 in /usr/local/lib/python3.12/dist-packages (from pydantic<3.0.0,>=2.0.0->google-genai) (0.4.2)\n",
            "Requirement already satisfied: charset_normalizer<4,>=2 in /usr/local/lib/python3.12/dist-packages (from requests<3.0.0,>=2.28.1->google-genai) (3.4.3)\n",
            "Requirement already satisfied: urllib3<3,>=1.21.1 in /usr/local/lib/python3.12/dist-packages (from requests<3.0.0,>=2.28.1->google-genai) (2.5.0)\n",
            "Requirement already satisfied: pyasn1<0.7.0,>=0.6.1 in /usr/local/lib/python3.12/dist-packages (from pyasn1-modules>=0.2.1->google-auth<3.0.0,>=2.14.1->google-genai) (0.6.1)\n"
          ]
        }
      ]
    },
    {
      "cell_type": "code",
      "source": [
        "import os\n",
        "from google.colab import auth\n",
        "auth.authenticate_user()\n",
        "import gspread\n",
        "from google.auth import default\n",
        "import pandas as pd\n",
        "import datetime\n",
        "#from types import new_class\n",
        "import gradio as gr\n",
        "\n",
        "creds,_ = default()\n",
        "gc = gspread.authorize(creds)\n",
        "gsheet = gc.open_by_url('https://docs.google.com/spreadsheets/d/1nuhUMYejx4I0uq-2Fro6Bjlpd0H1VW0ecVyKXM1AePA/edit?usp=sharing')\n",
        "worksheet = gsheet.worksheet('工作表1')\n",
        "TOTAL_CELL = 'G2'\n",
        "\n",
        "try:\n",
        "    analysis_worksheet = gsheet.worksheet('AI 分析摘要')\n",
        "except gspread.WorksheetNotFound:\n",
        "    # 如果工作表不存在，則創建它\n",
        "    analysis_worksheet = gsheet.add_worksheet(title='AI 分析摘要', rows=\"100\", cols=\"20\")\n",
        "    # 可以寫入標題\n",
        "    analysis_worksheet.update_cell(1, 1, \"AI 分析時間\")\n",
        "    analysis_worksheet.update_cell(1, 2, \"AI 關鍵摘要 1\")\n",
        "    analysis_worksheet.update_cell(1, 3, \"AI 關鍵摘要 2\")\n",
        "    analysis_worksheet.update_cell(1, 4, \"AI 關鍵摘要 3\")"
      ],
      "metadata": {
        "id": "svGSjfV0s27A"
      },
      "execution_count": 2,
      "outputs": []
    },
    {
      "cell_type": "code",
      "source": [
        "import google.generativeai as genai # 確保這個匯入在最前面\n",
        "from google.colab import userdata\n",
        "\n",
        "# 從 Colab Secrets 中獲取 API 金鑰\n",
        "api_key = userdata.get('HW3')\n",
        "\n",
        "try:\n",
        "    if api_key:\n",
        "        # ⭐️ 關鍵：使用 genai.configure 設定金鑰\n",
        "        genai.configure(api_key=api_key)\n",
        "        print(\"✅ Gemini API 客戶端初始化成功。\")\n",
        "\n",
        "        # ⭐️ 新增：創建 model 物件，這是您實際用來呼叫 API 的物件\n",
        "        #     這也解決了前面 client 相關的錯誤。\n",
        "        model = genai.GenerativeModel('gemini-2.5-pro')\n",
        "\n",
        "    else:\n",
        "        # 如果沒有金鑰，則拋出錯誤提醒使用者設定\n",
        "        raise ValueError(\"API 金鑰未設定。請確認您已在 Colab Secrets 中設定 'HW2'。\")\n",
        "\n",
        "except Exception as e:\n",
        "    # 這將捕獲到沒有金鑰或初始化失敗的錯誤\n",
        "    print(f\"❌ Gemini API 客戶端初始化失敗：{e}\")\n",
        "    # 將 model 設為 None，以便 AI 函式可以檢查它\n",
        "    model = None\n",
        "\n",
        "# ❌ 確保您刪除或註釋了 client = genai 這行，因為它會造成混亂\n",
        "# 您的 AI 函式必須改為使用 model.generate_content"
      ],
      "metadata": {
        "id": "a62dXcMjuOOd",
        "colab": {
          "base_uri": "https://localhost:8080/"
        },
        "outputId": "ab577875-7dd8-4fe2-c1ca-8f5586fce0c9"
      },
      "execution_count": 3,
      "outputs": [
        {
          "output_type": "stream",
          "name": "stdout",
          "text": [
            "✅ Gemini API 客戶端初始化成功。\n"
          ]
        }
      ]
    },
    {
      "cell_type": "code",
      "source": [
        "def get_total_amount_value():\n",
        "    \"\"\"\n",
        "    從 Google Sheets 中讀取所有資料，計算金額總計並回傳【標準 Python 數字】。\n",
        "    \"\"\"\n",
        "    try:\n",
        "        # 讀取工作表的所有記錄（不包含標題行）\n",
        "        df = pd.DataFrame(worksheet.get_all_records())\n",
        "\n",
        "        if '金額' in df.columns:\n",
        "            # 強制將總和轉換為標準 Python float，解決 int64 的問題\n",
        "            total_money = float(df['金額'].sum(skipna=True))\n",
        "            return total_money\n",
        "        else:\n",
        "            print(\"錯誤：找不到 '金額' 欄位。\")\n",
        "            return 0.0\n",
        "    except Exception as e:\n",
        "        print(f\"總計計算失敗：{e}\")\n",
        "        return 0.0"
      ],
      "metadata": {
        "id": "bX0qfu6Ks-G9"
      },
      "execution_count": 4,
      "outputs": []
    },
    {
      "cell_type": "code",
      "source": [
        "def update_total_in_sheet():\n",
        "    \"\"\"\n",
        "    計算總計，並將結果寫回 Google Sheets 的指定儲存格 (G1)。\n",
        "    \"\"\"\n",
        "    total_value = get_total_amount_value()\n",
        "\n",
        "    # 寫入 Google Sheet (使用 G 欄的第二行，即 G2)\n",
        "    worksheet.update_cell(2, 7, total_value)\n",
        "\n",
        "    # 回傳【格式化字串】給 Gradio 介面顯示\n",
        "    return f\"💰 總支出：{total_value:.2f} 元\""
      ],
      "metadata": {
        "id": "bm7dqGnCy3hd"
      },
      "execution_count": 5,
      "outputs": []
    },
    {
      "cell_type": "code",
      "source": [
        "def populate_total_amount():\n",
        "    \"\"\"\n",
        "    從 Google Sheets 讀取工作表（不含標題行）的所有資料，\n",
        "    並回傳【最新一筆】資料的「金額」欄位。\n",
        "    \"\"\"\n",
        "    try:\n",
        "        # 讀取工作表的所有記錄（records 會將第一行視為標題，不納入資料）\n",
        "        # 這樣讀取會得到一個 list of dicts\n",
        "        records = worksheet.get_all_records()\n",
        "\n",
        "        if not records:\n",
        "            # 如果沒有任何記錄 (只有標題行)\n",
        "            return \"0\"\n",
        "\n",
        "        # 取得 list 中最後一個字典，即最新一筆記錄\n",
        "        last_entry = records[-1]\n",
        "\n",
        "        # 取得「金額」欄位的值\n",
        "        # 注意：這裡假設您的「金額」欄位名稱是 '金額'\n",
        "        latest_amount = last_entry.get('金額', 0)\n",
        "\n",
        "        # 將結果轉換為字串回傳，以便 Gradio Textbox 顯示\n",
        "        return str(latest_amount)\n",
        "\n",
        "    except Exception as e:\n",
        "        print(f\"讀取最新一筆支出金額失敗：{e}\")\n",
        "        # 失敗時回傳一個明確的錯誤訊息或 0\n",
        "        return \"0\""
      ],
      "metadata": {
        "id": "Ao3L2uTRtAkh"
      },
      "execution_count": 6,
      "outputs": []
    },
    {
      "cell_type": "code",
      "source": [
        "def write_to_sheet(date_str, time_str, item, money, category, pay_way):\n",
        "    \"\"\"\n",
        "    接收使用者輸入，並寫入 Google Sheets 的函式。\n",
        "    \"\"\"\n",
        "    try:\n",
        "        # 驗證日期和時間格式\n",
        "        datetime.datetime.strptime(date_str, '%Y-%m-%d')\n",
        "        datetime.datetime.strptime(time_str, '%H:%M')\n",
        "\n",
        "        # 確保金額是數字\n",
        "        money = int(money)\n",
        "\n",
        "        # 建立一個 DataFrame 來儲存單筆資料\n",
        "        data = pd.DataFrame([{\n",
        "            '日期': date_str,\n",
        "            '時間': time_str,\n",
        "            '品項': item,\n",
        "            '金額': money,\n",
        "            '類別': category,\n",
        "            '支付方式': pay_way\n",
        "        }])\n",
        "\n",
        "        # 將 DataFrame 轉為列表以便寫入\n",
        "        data_to_write = data.values.tolist()\n",
        "\n",
        "        # 寫入資料到 Google Sheets\n",
        "        worksheet.append_rows(values=data_to_write, value_input_option='USER_ENTERED')\n",
        "\n",
        "        # 寫入成功後，【呼叫更新總計的函式】來更新 Sheet 和 Gradio 介面\n",
        "        new_total_output = update_total_in_sheet()\n",
        "\n",
        "        return \"✅ 資料已成功寫入！\", new_total_output, money\n",
        "\n",
        "\n",
        "    except ValueError as ve:\n",
        "        # 處理格式錯誤\n",
        "        current_total_output = update_total_in_sheet()\n",
        "        return f\"❌ 格式錯誤：{ve}，請確認日期（YYYY-MM-DD）、時間（HH:MM）或金額的格式是否正確。\", current_total_output, None\n",
        "    except Exception as e:\n",
        "        # 處理其他錯誤\n",
        "        current_total_output = update_total_in_sheet()\n",
        "        return f\"❌ 寫入失敗：{e}\", current_total_output, None"
      ],
      "metadata": {
        "id": "O-wYAB2-y47b"
      },
      "execution_count": 7,
      "outputs": []
    },
    {
      "cell_type": "code",
      "source": [
        "def split_bill(total_amount, num_people):\n",
        "    \"\"\"\n",
        "    分帳計算函式。\n",
        "    \"\"\"\n",
        "    try:\n",
        "        total_amount = float(total_amount)\n",
        "        num_people = int(num_people)\n",
        "\n",
        "        if num_people <= 0:\n",
        "            return \"❌ 人數必須大於 0。\"\n",
        "\n",
        "        per_person_amount = total_amount / num_people\n",
        "        return f\"✅ 每人應付金額：{per_person_amount:.2f} 元\"\n",
        "\n",
        "    except ValueError:\n",
        "        return \"❌ 請確認金額和人數都為數字。\"\n",
        "    except Exception as e:\n",
        "        return f\"❌ 計算失敗：{e}\""
      ],
      "metadata": {
        "id": "Sq0fAbVAtEnf"
      },
      "execution_count": 8,
      "outputs": []
    },
    {
      "cell_type": "code",
      "source": [
        "def get_expense_data_for_analysis():\n",
        "    \"\"\"\n",
        "    從 Google Sheets 讀取所有支出記錄並格式化為 Markdown 表格字串。\n",
        "    \"\"\"\n",
        "    try:\n",
        "        # 讀取工作表的所有記錄\n",
        "        df = pd.DataFrame(worksheet.get_all_records())\n",
        "\n",
        "        if df.empty:\n",
        "            return \"無支出記錄可供分析。\"\n",
        "\n",
        "        # 選擇相關欄位並轉換為字串，以便模型可以理解\n",
        "        analysis_df = df[['日期', '品項', '金額', '類別', '支付方式']]\n",
        "\n",
        "        # 將 DataFrame 轉換為 Markdown 表格字串\n",
        "        data_markdown = analysis_df.to_markdown(index=False)\n",
        "        return data_markdown\n",
        "\n",
        "    except Exception as e:\n",
        "        return f\"讀取資料失敗: {e}\""
      ],
      "metadata": {
        "id": "4YI-a_GeuU2Z"
      },
      "execution_count": 9,
      "outputs": []
    },
    {
      "cell_type": "code",
      "source": [
        "def write_analysis_to_sheet(summaries):\n",
        "    \"\"\"\n",
        "    將 AI 生成的摘要寫入 'AI 分析摘要' 工作表。\n",
        "    summaries 應該是一個包含 3 個字串的列表。\n",
        "    \"\"\"\n",
        "    # ... [此處程式碼與您上一次提交的 write_analysis_to_sheet 函式保持一致] ...\n",
        "    # 這裡假設該函式能夠成功將 [時間, 摘要1, 摘要2, 摘要3] 寫入新的工作表\n",
        "    try:\n",
        "        current_time = datetime.datetime.now().strftime(\"%Y-%m-%d %H:%M:%S\")\n",
        "        data_to_write = [current_time] + summaries\n",
        "        analysis_worksheet.append_row(values=data_to_write, value_input_option='USER_ENTERED')\n",
        "        return \"✅ AI 分析摘要已成功寫入 'AI 分析摘要' 工作表。\"\n",
        "    except Exception as e:\n",
        "        return f\"❌ 寫入 AI 摘要到試算表失敗: {e}\""
      ],
      "metadata": {
        "id": "WQjRXSpDG__8"
      },
      "execution_count": 10,
      "outputs": []
    },
    {
      "cell_type": "code",
      "source": [
        "def summarize_and_write_expenses():\n",
        "\n",
        "    \"\"\"\n",
        "    呼叫 Gemini API 取得【3 點關鍵摘要】，將其寫入試算表，並回傳格式化輸出。\n",
        "    \"\"\"\n",
        "    expense_data = get_expense_data_for_analysis()\n",
        "    if \"無支出記錄\" in expense_data or \"讀取資料失敗\" in expense_data:\n",
        "        return expense_data\n",
        "\n",
        "    expense_data = get_expense_data_for_analysis()\n",
        "    if \"無支出記錄\" in expense_data or \"讀取資料失敗\" in expense_data:\n",
        "        return expense_data\n",
        "\n",
        "    # 使用嚴格的提示，確保回傳 3 行摘要\n",
        "    prompt = f\"\"\"\n",
        "    請擔任財務分析師，根據以下的支出數據進行分析。數據格式為 Markdown 表格：{expense_data}\n",
        "    您的回答**必須**只包含以下三點，每一點為一行，並且不要包含任何其他解釋或抬頭：\n",
        "    1. **消費結構最突出的洞察** (例如：外食佔總支出 60%)。\n",
        "    2. **支付方式最顯著的趨勢** (例如：信用卡使用率達 85%，建議保持)。\n",
        "    3. **一個具體的節省建議或警示** (例如：交通費異常偏高，考慮月票)。\n",
        "    \"\"\"\n",
        "\n",
        "    try:\n",
        "        # ⭐️ 修正：使用 model.generate_content，且只傳入 contents\n",
        "        response = model.generate_content(\n",
        "            contents=prompt\n",
        "            # 確保這裡沒有 model='...' 參數\n",
        "        )\n",
        "        raw_text = response.text.strip()\n",
        "        summaries = [s.strip() for s in raw_text.split('\\n') if s.strip()][:3]\n",
        "\n",
        "        if len(summaries) < 3:\n",
        "            return f\"❌ AI 回覆格式不正確，只取得 {len(summaries)} 點摘要。原始回覆：\\n\\n{raw_text}\"\n",
        "\n",
        "        # **執行寫入試算表**\n",
        "        write_status = write_analysis_to_sheet(summaries)\n",
        "\n",
        "        # 構造回傳給 Gradio 的完整 Markdown 輸出\n",
        "        return f\"\"\"\n",
        "        {write_status}\n",
        "\n",
        "        ---\n",
        "\n",
        "        ### 🤖 AI 關鍵洞察 (已儲存至試算表)\n",
        "\n",
        "        1. **消費結構：** {summaries[0]}\n",
        "        2. **支付趨勢：** {summaries[1]}\n",
        "        3. **節省建議：** {summaries[2]}\n",
        "        \"\"\"\n",
        "\n",
        "    except Exception as e:\n",
        "        return f\"❌ Gemini API 或處理失敗：{e}\""
      ],
      "metadata": {
        "id": "E8uaHp6nuaF_"
      },
      "execution_count": 11,
      "outputs": []
    },
    {
      "cell_type": "code",
      "source": [
        "def detailed_analyze_expenses():\n",
        "    \"\"\"\n",
        "    呼叫 Gemini API 取得【詳細分析報告】，僅供 Gradio 介面顯示。\n",
        "    \"\"\"\n",
        "    # 檢查是否定義了 client（使用新的 client 變數）\n",
        "    expense_data = get_expense_data_for_analysis()\n",
        "    if \"無支出記錄\" in expense_data or \"讀取資料失敗\" in expense_data:\n",
        "        return expense_data\n",
        "\n",
        "    expense_data = get_expense_data_for_analysis()\n",
        "    if \"無支出記錄\" in expense_data or \"讀取資料失敗\" in expense_data:\n",
        "        return expense_data\n",
        "\n",
        "    # 使用開放式提示，鼓勵模型提供長篇、詳細的分析\n",
        "    prompt = f\"\"\"\n",
        "    請擔任財務分析師，根據以下的支出數據進行詳盡的分析和報告。\n",
        "    數據格式為 Markdown 表格：{expense_data}\n",
        "\n",
        "    請提供一份結構化的報告，包含：\n",
        "    1. **支出總覽與結構細分**：指出主要支出類別和趨勢。\n",
        "    2. **異常值或亮點**：是否有任何單筆高額支出或特別值得注意的消費行為。\n",
        "    3. **未來預算和行為調整建議**：提供具體且可執行的財務管理建議。\n",
        "    請使用 Markdown 格式並確保報告內容豐富，長度建議超過 300 字。\n",
        "    \"\"\"\n",
        "\n",
        "    try:\n",
        "        # ⭐️ 修正：使用 model.generate_content，且只傳入 contents\n",
        "        response = model.generate_content(\n",
        "            contents=prompt\n",
        "            # 確保這裡沒有 model='...' 參數\n",
        "        )\n",
        "        # 直接回傳模型的完整報告\n",
        "        return response.text\n",
        "\n",
        "    except Exception as e:\n",
        "        return f\"❌ Gemini API 呼叫失敗：{e}\""
      ],
      "metadata": {
        "id": "-E6aJbnbIhwM"
      },
      "execution_count": 12,
      "outputs": []
    },
    {
      "cell_type": "code",
      "source": [
        "# --- Gradio 介面定義 ---\n",
        "with gr.Blocks(title=\"chi_支出記錄器\") as demo:\n",
        "    gr.Markdown(\"## 📋 Google Sheets 支出記錄器\")\n",
        "\n",
        "    # 這裡新增一個 gr.State 來儲存金額\n",
        "    amount_state = gr.State(value=None)\n",
        "\n",
        "    with gr.Tabs():\n",
        "        # 第一個分頁：支出記錄器\n",
        "        with gr.TabItem(\"💸 支出記錄器\"):\n",
        "            gr.Markdown(\"請在下方輸入支出資料，資料將會自動寫入 Google Sheets。\")\n",
        "\n",
        "            with gr.Row():\n",
        "                date_in = gr.Textbox(label=\"日期\", placeholder=\"YYYY-MM-DD\", value=datetime.date.today().strftime(\"%Y-%m-%d\"))\n",
        "                time_in = gr.Textbox(label=\"時間\", placeholder=\"HH:MM\", value=datetime.datetime.now().strftime(\"%H:%M\"))\n",
        "\n",
        "            with gr.Row():\n",
        "                item_in = gr.Textbox(label=\"品項\", placeholder=\"例如：午餐、車票\")\n",
        "                money_in = gr.Textbox(label=\"金額\", placeholder=\"數字\")\n",
        "\n",
        "            with gr.Row():\n",
        "                category_in = gr.Textbox(label=\"類別\", placeholder=\"例如：外食、交通\")\n",
        "                pay_way_in = gr.Textbox(label=\"支付方式\", placeholder=\"例如：現金、信用卡\")\n",
        "\n",
        "            submit_btn = gr.Button(\"寫入資料，並計算新總金額\")\n",
        "\n",
        "            with gr.Row():\n",
        "                output_msg = gr.Markdown()\n",
        "                # 介面載入時，直接呼叫 update_total_in_sheet() 來顯示當前總計\n",
        "                total_output = gr.Markdown(value=update_total_in_sheet())\n",
        "\n",
        "            # submit_btn.click 的設定保持不變，因為 write_to_sheet 已經更新了邏輯\n",
        "            submit_btn.click(\n",
        "                fn=write_to_sheet,\n",
        "                inputs=[date_in, time_in, item_in, money_in, category_in, pay_way_in],\n",
        "                outputs=[output_msg, total_output] # <--- 移除 amount_state\n",
        "            )\n",
        "\n",
        "        # 第二個分頁：分帳小工具\n",
        "        with gr.TabItem(\"💰 分帳小工具\"):\n",
        "            gr.Markdown(\"請輸入總金額和人數，按下按鈕即可計算每人應付金額。\")\n",
        "\n",
        "            with gr.Row():\n",
        "                total_value = gr.Textbox(label=\"總金額\", placeholder=\"例如：1000\")\n",
        "                num_people_in = gr.Textbox(label=\"人數\", placeholder=\"例如：4\")\n",
        "\n",
        "            # 新增一個按鈕來從支出頁面取得金額\n",
        "            fill_btn = gr.Button(\"讀取最後一筆支出金額\")\n",
        "            split_btn = gr.Button(\"計算分帳\")\n",
        "\n",
        "            split_output = gr.Markdown()\n",
        "\n",
        "            # 設定點擊事件\n",
        "            fill_btn.click(\n",
        "                fn=populate_total_amount,\n",
        "                inputs=None,        # <--- 修正：不再需要 amount_state\n",
        "                outputs=total_value\n",
        "            )\n",
        "\n",
        "            split_btn.click(\n",
        "                fn=split_bill,\n",
        "                inputs=[total_value, num_people_in],\n",
        "                outputs=split_output\n",
        "            )\n",
        "\n",
        "        # 第三個分頁：AI 支出分析\n",
        "        with gr.TabItem(\"🧠 AI 支出分析\"):\n",
        "            gr.Markdown(\"### 🤖 支出 AI 分析工具\")\n",
        "            gr.Markdown(\"請選擇您想要的分析深度。**精簡摘要**會將 3 點關鍵洞察儲存到 Google Sheet。\")\n",
        "\n",
        "            # 放置兩個按鈕在同一行\n",
        "            with gr.Row():\n",
        "                summarize_btn = gr.Button(\"1. 精簡摘要 (儲存至試算表)\")\n",
        "                detail_btn = gr.Button(\"2. 詳細報告 (僅顯示於此)\")\n",
        "\n",
        "            # 用於顯示 AI 分析結果的元件\n",
        "            analysis_output = gr.Markdown(\"點擊上方按鈕開始分析，結果將顯示在此。\")\n",
        "\n",
        "            # 連接按鈕與對應的函式\n",
        "            summarize_btn.click(\n",
        "                fn=summarize_and_write_expenses,\n",
        "                inputs=None,\n",
        "                outputs=analysis_output\n",
        "            )\n",
        "\n",
        "            detail_btn.click(\n",
        "                fn=detailed_analyze_expenses,\n",
        "                inputs=None,\n",
        "                outputs=analysis_output\n",
        "            )"
      ],
      "metadata": {
        "id": "W7etdpvttG3e"
      },
      "execution_count": 13,
      "outputs": []
    },
    {
      "cell_type": "code",
      "source": [
        "demo.launch(share=False)"
      ],
      "metadata": {
        "colab": {
          "base_uri": "https://localhost:8080/",
          "height": 598
        },
        "id": "l2n7L9wFtJH6",
        "outputId": "4613961b-bd07-4a8b-9529-2a8df8c5956e"
      },
      "execution_count": 14,
      "outputs": [
        {
          "output_type": "stream",
          "name": "stdout",
          "text": [
            "Colab notebook detected. To show errors in colab notebook, set debug=True in launch()\n",
            "Note: opening Chrome Inspector may crash demo inside Colab notebooks.\n",
            "* To create a public link, set `share=True` in `launch()`.\n"
          ]
        },
        {
          "output_type": "display_data",
          "data": {
            "text/plain": [
              "<IPython.core.display.Javascript object>"
            ],
            "application/javascript": [
              "(async (port, path, width, height, cache, element) => {\n",
              "                        if (!google.colab.kernel.accessAllowed && !cache) {\n",
              "                            return;\n",
              "                        }\n",
              "                        element.appendChild(document.createTextNode(''));\n",
              "                        const url = await google.colab.kernel.proxyPort(port, {cache});\n",
              "\n",
              "                        const external_link = document.createElement('div');\n",
              "                        external_link.innerHTML = `\n",
              "                            <div style=\"font-family: monospace; margin-bottom: 0.5rem\">\n",
              "                                Running on <a href=${new URL(path, url).toString()} target=\"_blank\">\n",
              "                                    https://localhost:${port}${path}\n",
              "                                </a>\n",
              "                            </div>\n",
              "                        `;\n",
              "                        element.appendChild(external_link);\n",
              "\n",
              "                        const iframe = document.createElement('iframe');\n",
              "                        iframe.src = new URL(path, url).toString();\n",
              "                        iframe.height = height;\n",
              "                        iframe.allow = \"autoplay; camera; microphone; clipboard-read; clipboard-write;\"\n",
              "                        iframe.width = width;\n",
              "                        iframe.style.border = 0;\n",
              "                        element.appendChild(iframe);\n",
              "                    })(7860, \"/\", \"100%\", 500, false, window.element)"
            ]
          },
          "metadata": {}
        },
        {
          "output_type": "execute_result",
          "data": {
            "text/plain": []
          },
          "metadata": {},
          "execution_count": 14
        }
      ]
    }
  ]
}