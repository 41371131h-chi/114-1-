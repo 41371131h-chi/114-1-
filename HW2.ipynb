{
  "nbformat": 4,
  "nbformat_minor": 0,
  "metadata": {
    "colab": {
      "provenance": [],
      "authorship_tag": "ABX9TyOV2FNp0DaYEtcoFCnf87lR",
      "include_colab_link": true
    },
    "kernelspec": {
      "name": "python3",
      "display_name": "Python 3"
    },
    "language_info": {
      "name": "python"
    }
  },
  "cells": [
    {
      "cell_type": "markdown",
      "metadata": {
        "id": "view-in-github",
        "colab_type": "text"
      },
      "source": [
        "<a href=\"https://colab.research.google.com/github/41371131h-chi/114-1-/blob/main/HW2.ipynb\" target=\"_parent\"><img src=\"https://colab.research.google.com/assets/colab-badge.svg\" alt=\"Open In Colab\"/></a>"
      ]
    },
    {
      "cell_type": "markdown",
      "source": [
        "#成績一本通（作業二）\n",
        "* 目標：從 Sheet 讀各次作業/測驗 → 計平時/期末/總成績 → 回寫成績總表。\n",
        "* AI 點子：針對「開放式作答」欄位，用模型產出整體摘要與常見迷思整理（不評分，只做總結）。\n",
        "* google sheet:https://docs.google.com/spreadsheets/d/1nuhUMYejx4I0uq-2Fro6Bjlpd0H1VW0ecVyKXM1AePA/edit?usp=sharing"
      ],
      "metadata": {
        "id": "5mWpY_--fCpO"
      }
    },
    {
      "cell_type": "code",
      "source": [
        "# 1. 安裝 Google GenAI SDK\n",
        "!pip install google-genai"
      ],
      "metadata": {
        "colab": {
          "base_uri": "https://localhost:8080/"
        },
        "id": "LGFXEuIht87m",
        "outputId": "17c1530a-7cf2-4382-a186-aeb0a75622f2"
      },
      "execution_count": 1,
      "outputs": [
        {
          "output_type": "stream",
          "name": "stdout",
          "text": [
            "Requirement already satisfied: google-genai in /usr/local/lib/python3.12/dist-packages (1.38.0)\n",
            "Requirement already satisfied: anyio<5.0.0,>=4.8.0 in /usr/local/lib/python3.12/dist-packages (from google-genai) (4.10.0)\n",
            "Requirement already satisfied: google-auth<3.0.0,>=2.14.1 in /usr/local/lib/python3.12/dist-packages (from google-genai) (2.38.0)\n",
            "Requirement already satisfied: httpx<1.0.0,>=0.28.1 in /usr/local/lib/python3.12/dist-packages (from google-genai) (0.28.1)\n",
            "Requirement already satisfied: pydantic<3.0.0,>=2.0.0 in /usr/local/lib/python3.12/dist-packages (from google-genai) (2.11.9)\n",
            "Requirement already satisfied: requests<3.0.0,>=2.28.1 in /usr/local/lib/python3.12/dist-packages (from google-genai) (2.32.4)\n",
            "Requirement already satisfied: tenacity<9.2.0,>=8.2.3 in /usr/local/lib/python3.12/dist-packages (from google-genai) (8.5.0)\n",
            "Requirement already satisfied: websockets<15.1.0,>=13.0.0 in /usr/local/lib/python3.12/dist-packages (from google-genai) (15.0.1)\n",
            "Requirement already satisfied: typing-extensions<5.0.0,>=4.11.0 in /usr/local/lib/python3.12/dist-packages (from google-genai) (4.15.0)\n",
            "Requirement already satisfied: idna>=2.8 in /usr/local/lib/python3.12/dist-packages (from anyio<5.0.0,>=4.8.0->google-genai) (3.10)\n",
            "Requirement already satisfied: sniffio>=1.1 in /usr/local/lib/python3.12/dist-packages (from anyio<5.0.0,>=4.8.0->google-genai) (1.3.1)\n",
            "Requirement already satisfied: cachetools<6.0,>=2.0.0 in /usr/local/lib/python3.12/dist-packages (from google-auth<3.0.0,>=2.14.1->google-genai) (5.5.2)\n",
            "Requirement already satisfied: pyasn1-modules>=0.2.1 in /usr/local/lib/python3.12/dist-packages (from google-auth<3.0.0,>=2.14.1->google-genai) (0.4.2)\n",
            "Requirement already satisfied: rsa<5,>=3.1.4 in /usr/local/lib/python3.12/dist-packages (from google-auth<3.0.0,>=2.14.1->google-genai) (4.9.1)\n",
            "Requirement already satisfied: certifi in /usr/local/lib/python3.12/dist-packages (from httpx<1.0.0,>=0.28.1->google-genai) (2025.8.3)\n",
            "Requirement already satisfied: httpcore==1.* in /usr/local/lib/python3.12/dist-packages (from httpx<1.0.0,>=0.28.1->google-genai) (1.0.9)\n",
            "Requirement already satisfied: h11>=0.16 in /usr/local/lib/python3.12/dist-packages (from httpcore==1.*->httpx<1.0.0,>=0.28.1->google-genai) (0.16.0)\n",
            "Requirement already satisfied: annotated-types>=0.6.0 in /usr/local/lib/python3.12/dist-packages (from pydantic<3.0.0,>=2.0.0->google-genai) (0.7.0)\n",
            "Requirement already satisfied: pydantic-core==2.33.2 in /usr/local/lib/python3.12/dist-packages (from pydantic<3.0.0,>=2.0.0->google-genai) (2.33.2)\n",
            "Requirement already satisfied: typing-inspection>=0.4.0 in /usr/local/lib/python3.12/dist-packages (from pydantic<3.0.0,>=2.0.0->google-genai) (0.4.1)\n",
            "Requirement already satisfied: charset_normalizer<4,>=2 in /usr/local/lib/python3.12/dist-packages (from requests<3.0.0,>=2.28.1->google-genai) (3.4.3)\n",
            "Requirement already satisfied: urllib3<3,>=1.21.1 in /usr/local/lib/python3.12/dist-packages (from requests<3.0.0,>=2.28.1->google-genai) (2.5.0)\n",
            "Requirement already satisfied: pyasn1<0.7.0,>=0.6.1 in /usr/local/lib/python3.12/dist-packages (from pyasn1-modules>=0.2.1->google-auth<3.0.0,>=2.14.1->google-genai) (0.6.1)\n"
          ]
        }
      ]
    },
    {
      "cell_type": "code",
      "source": [
        "import os\n",
        "from google.colab import auth\n",
        "auth.authenticate_user()\n",
        "import gspread\n",
        "from google.auth import default\n",
        "import pandas as pd\n",
        "import datetime\n",
        "#from types import new_class\n",
        "import gradio as gr\n",
        "\n",
        "creds,_ = default()\n",
        "gc = gspread.authorize(creds)\n",
        "gsheet = gc.open_by_url('https://docs.google.com/spreadsheets/d/1nuhUMYejx4I0uq-2Fro6Bjlpd0H1VW0ecVyKXM1AePA/edit?usp=sharing')\n",
        "worksheet = gsheet.worksheet('工作表1')\n",
        "TOTAL_CELL = 'G2'"
      ],
      "metadata": {
        "id": "svGSjfV0s27A"
      },
      "execution_count": 2,
      "outputs": []
    },
    {
      "cell_type": "code",
      "source": [
        "from google import genai\n",
        "from google.genai import types\n",
        "from google.colab import userdata\n",
        "import os # 確保您已匯入 os 模組\n",
        "\n",
        "# 初始化 Gemini 客戶端\n",
        "# V V V 修正：將變數名稱設為實際使用的 Secret 名稱 V V V\n",
        "GEMINI_SECRET_NAME = 'HW2'\n",
        "# ^ ^ ^ 修正：將變數名稱設為實際使用的 Secret 名稱 ^ ^ ^\n",
        "\n",
        "try:\n",
        "    # 從 Colab Secrets 取得金鑰\n",
        "    # 這裡的字串必須是您在 Colab Secrets 中設定的名稱\n",
        "    api_key = userdata.get(GEMINI_SECRET_NAME)\n",
        "\n",
        "    # 檢查是否成功取得金鑰 (防止回傳 None)\n",
        "    if not api_key:\n",
        "        raise ValueError(f\"Secret '{GEMINI_SECRET_NAME}' is empty or does not exist.\")\n",
        "\n",
        "    # 將金鑰設定到環境變數中，Gemini 客戶端會自動使用它\n",
        "    os.environ['GEMINI_API_KEY'] = api_key\n",
        "    print(f\"✅ 成功從 Colab Secrets 讀取金鑰：{GEMINI_SECRET_NAME}\")\n",
        "\n",
        "except Exception as e:\n",
        "    print(f\"❌ 無法從 Colab Secrets 讀取金鑰 '{GEMINI_SECRET_NAME}'，請確認名稱是否正確。錯誤: {e}\")\n",
        "\n",
        "# 初始化 Gemini 客戶端 (現在環境變數應已設定)\n",
        "try:\n",
        "    client = genai.Client()\n",
        "    print(\"✅ Gemini API 客戶端初始化成功。\")\n",
        "except Exception as e:\n",
        "    print(f\"❌ Gemini API 客戶端初始化失敗：{e}\")\n",
        "    client = None"
      ],
      "metadata": {
        "id": "a62dXcMjuOOd",
        "outputId": "17f91ed8-09ba-4833-9d03-3680d114c0c6",
        "colab": {
          "base_uri": "https://localhost:8080/"
        }
      },
      "execution_count": 3,
      "outputs": [
        {
          "output_type": "stream",
          "name": "stdout",
          "text": [
            "✅ 成功從 Colab Secrets 讀取金鑰：HW2\n",
            "✅ Gemini API 客戶端初始化成功。\n"
          ]
        }
      ]
    },
    {
      "cell_type": "code",
      "source": [
        "def get_total_amount_value():\n",
        "    \"\"\"\n",
        "    從 Google Sheets 中讀取所有資料，計算金額總計並回傳【標準 Python 數字】。\n",
        "    \"\"\"\n",
        "    try:\n",
        "        # 讀取工作表的所有記錄（不包含標題行）\n",
        "        df = pd.DataFrame(worksheet.get_all_records())\n",
        "\n",
        "        if '金額' in df.columns:\n",
        "            # 強制將總和轉換為標準 Python float，解決 int64 的問題\n",
        "            total_money = float(df['金額'].sum(skipna=True))\n",
        "            return total_money\n",
        "        else:\n",
        "            print(\"錯誤：找不到 '金額' 欄位。\")\n",
        "            return 0.0\n",
        "    except Exception as e:\n",
        "        print(f\"總計計算失敗：{e}\")\n",
        "        return 0.0"
      ],
      "metadata": {
        "id": "bX0qfu6Ks-G9"
      },
      "execution_count": 4,
      "outputs": []
    },
    {
      "cell_type": "code",
      "source": [
        "def update_total_in_sheet():\n",
        "    \"\"\"\n",
        "    計算總計，並將結果寫回 Google Sheets 的指定儲存格 (G1)。\n",
        "    \"\"\"\n",
        "    total_value = get_total_amount_value()\n",
        "\n",
        "    # 寫入 Google Sheet (使用 G 欄的第二行，即 G2)\n",
        "    worksheet.update_cell(2, 7, total_value)\n",
        "\n",
        "    # 回傳【格式化字串】給 Gradio 介面顯示\n",
        "    return f\"💰 總支出：{total_value:.2f} 元\""
      ],
      "metadata": {
        "id": "bm7dqGnCy3hd"
      },
      "execution_count": 5,
      "outputs": []
    },
    {
      "cell_type": "code",
      "source": [
        "def populate_total_amount(amount_state):\n",
        "    \"\"\"\n",
        "    從 gr.State 中讀取金額並填充到輸入框。\n",
        "    \"\"\"\n",
        "    return amount_state"
      ],
      "metadata": {
        "id": "Ao3L2uTRtAkh"
      },
      "execution_count": 6,
      "outputs": []
    },
    {
      "cell_type": "code",
      "source": [
        "def write_to_sheet(date_str, time_str, item, money, category, pay_way):\n",
        "    \"\"\"\n",
        "    接收使用者輸入，並寫入 Google Sheets 的函式。\n",
        "    \"\"\"\n",
        "    try:\n",
        "        # 驗證日期和時間格式\n",
        "        datetime.datetime.strptime(date_str, '%Y-%m-%d')\n",
        "        datetime.datetime.strptime(time_str, '%H:%M')\n",
        "\n",
        "        # 確保金額是數字\n",
        "        money = int(money)\n",
        "\n",
        "        # 建立一個 DataFrame 來儲存單筆資料\n",
        "        data = pd.DataFrame([{\n",
        "            '日期': date_str,\n",
        "            '時間': time_str,\n",
        "            '品項': item,\n",
        "            '金額': money,\n",
        "            '類別': category,\n",
        "            '支付方式': pay_way\n",
        "        }])\n",
        "\n",
        "        # 將 DataFrame 轉為列表以便寫入\n",
        "        data_to_write = data.values.tolist()\n",
        "\n",
        "        # 寫入資料到 Google Sheets\n",
        "        worksheet.append_rows(values=data_to_write, value_input_option='USER_ENTERED')\n",
        "\n",
        "        # 寫入成功後，【呼叫更新總計的函式】來更新 Sheet 和 Gradio 介面\n",
        "        new_total_output = update_total_in_sheet()\n",
        "\n",
        "        return \"✅ 資料已成功寫入！\", new_total_output, money\n",
        "\n",
        "\n",
        "    except ValueError as ve:\n",
        "        # 處理格式錯誤\n",
        "        current_total_output = update_total_in_sheet()\n",
        "        return f\"❌ 格式錯誤：{ve}，請確認日期（YYYY-MM-DD）、時間（HH:MM）或金額的格式是否正確。\", current_total_output, None\n",
        "    except Exception as e:\n",
        "        # 處理其他錯誤\n",
        "        current_total_output = update_total_in_sheet()\n",
        "        return f\"❌ 寫入失敗：{e}\", current_total_output, None"
      ],
      "metadata": {
        "id": "O-wYAB2-y47b"
      },
      "execution_count": 7,
      "outputs": []
    },
    {
      "cell_type": "code",
      "source": [
        "def split_bill(total_amount, num_people):\n",
        "    \"\"\"\n",
        "    分帳計算函式。\n",
        "    \"\"\"\n",
        "    try:\n",
        "        total_amount = float(total_amount)\n",
        "        num_people = int(num_people)\n",
        "\n",
        "        if num_people <= 0:\n",
        "            return \"❌ 人數必須大於 0。\"\n",
        "\n",
        "        per_person_amount = total_amount / num_people\n",
        "        return f\"✅ 每人應付金額：{per_person_amount:.2f} 元\"\n",
        "\n",
        "    except ValueError:\n",
        "        return \"❌ 請確認金額和人數都為數字。\"\n",
        "    except Exception as e:\n",
        "        return f\"❌ 計算失敗：{e}\""
      ],
      "metadata": {
        "id": "Sq0fAbVAtEnf"
      },
      "execution_count": 8,
      "outputs": []
    },
    {
      "cell_type": "code",
      "source": [
        "def get_expense_data_for_analysis():\n",
        "    \"\"\"\n",
        "    從 Google Sheets 讀取所有支出記錄並格式化為 Markdown 表格字串。\n",
        "    \"\"\"\n",
        "    try:\n",
        "        # 讀取工作表的所有記錄\n",
        "        df = pd.DataFrame(worksheet.get_all_records())\n",
        "\n",
        "        if df.empty:\n",
        "            return \"無支出記錄可供分析。\"\n",
        "\n",
        "        # 選擇相關欄位並轉換為字串，以便模型可以理解\n",
        "        analysis_df = df[['日期', '品項', '金額', '類別', '支付方式']]\n",
        "\n",
        "        # 將 DataFrame 轉換為 Markdown 表格字串\n",
        "        data_markdown = analysis_df.to_markdown(index=False)\n",
        "        return data_markdown\n",
        "\n",
        "    except Exception as e:\n",
        "        return f\"讀取資料失敗: {e}\""
      ],
      "metadata": {
        "id": "4YI-a_GeuU2Z"
      },
      "execution_count": 9,
      "outputs": []
    },
    {
      "cell_type": "code",
      "source": [
        "def analyze_expenses():\n",
        "    \"\"\"\n",
        "    呼叫 Gemini API 分析支出數據並回傳結果。\n",
        "    \"\"\"\n",
        "    if client is None:\n",
        "        return \"❌ Gemini API 客戶端未成功初始化，請檢查 API 金鑰設定。\"\n",
        "\n",
        "    expense_data = get_expense_data_for_analysis()\n",
        "\n",
        "    if \"無支出記錄\" in expense_data or \"讀取資料失敗\" in expense_data:\n",
        "        return expense_data\n",
        "\n",
        "    # 構造給 Gemini 的提示 (Prompt)\n",
        "    prompt = f\"\"\"\n",
        "    請擔任財務分析師，根據以下的支出數據進行詳細分析。\n",
        "    數據格式為 Markdown 表格：\n",
        "    ---\n",
        "    {expense_data}\n",
        "    ---\n",
        "\n",
        "    請至少涵蓋以下三個方面進行分析：\n",
        "    1. **消費結構分析**：哪一種類別（'類別' 欄位）的支出最高？佔總支出的百分比是多少？\n",
        "    2. **支付習慣分析**：最常用哪種支付方式（'支付方式' 欄位）？\n",
        "    3. **洞察與建議**：根據數據，提供至少 2 點具體的消費建議或值得注意的趨勢。\n",
        "    \"\"\"\n",
        "\n",
        "    try:\n",
        "        # 呼叫 Gemini API\n",
        "        response = client.models.generate_content(\n",
        "            model='gemini-2.5-flash',\n",
        "            contents=prompt\n",
        "        )\n",
        "        return response.text\n",
        "\n",
        "    except Exception as e:\n",
        "        return f\"❌ Gemini API 呼叫失敗：{e}\""
      ],
      "metadata": {
        "id": "E8uaHp6nuaF_"
      },
      "execution_count": 10,
      "outputs": []
    },
    {
      "cell_type": "code",
      "source": [
        "# --- Gradio 介面定義 ---\n",
        "with gr.Blocks(title=\"chi_支出記錄器\") as demo:\n",
        "    gr.Markdown(\"## 📋 Google Sheets 支出記錄器\")\n",
        "\n",
        "    # 這裡新增一個 gr.State 來儲存金額\n",
        "    amount_state = gr.State(value=None)\n",
        "\n",
        "    with gr.Tabs():\n",
        "        # 第一個分頁：支出記錄器\n",
        "        with gr.TabItem(\"💸 支出記錄器\"):\n",
        "            gr.Markdown(\"請在下方輸入支出資料，資料將會自動寫入 Google Sheets。\")\n",
        "\n",
        "            with gr.Row():\n",
        "                date_in = gr.Textbox(label=\"日期\", placeholder=\"YYYY-MM-DD\", value=datetime.date.today().strftime(\"%Y-%m-%d\"))\n",
        "                time_in = gr.Textbox(label=\"時間\", placeholder=\"HH:MM\", value=datetime.datetime.now().strftime(\"%H:%M\"))\n",
        "\n",
        "            with gr.Row():\n",
        "                item_in = gr.Textbox(label=\"品項\", placeholder=\"例如：午餐、車票\")\n",
        "                money_in = gr.Textbox(label=\"金額\", placeholder=\"數字\")\n",
        "\n",
        "            with gr.Row():\n",
        "                category_in = gr.Textbox(label=\"類別\", placeholder=\"例如：外食、交通\")\n",
        "                pay_way_in = gr.Textbox(label=\"支付方式\", placeholder=\"例如：現金、信用卡\")\n",
        "\n",
        "            submit_btn = gr.Button(\"寫入資料，並計算新總金額\")\n",
        "\n",
        "            with gr.Row():\n",
        "                output_msg = gr.Markdown()\n",
        "                # 介面載入時，直接呼叫 update_total_in_sheet() 來顯示當前總計\n",
        "                total_output = gr.Markdown(value=update_total_in_sheet())\n",
        "\n",
        "            # submit_btn.click 的設定保持不變，因為 write_to_sheet 已經更新了邏輯\n",
        "            submit_btn.click(\n",
        "                fn=write_to_sheet,\n",
        "                inputs=[date_in, time_in, item_in, money_in, category_in, pay_way_in],\n",
        "                outputs=[output_msg, total_output, amount_state]\n",
        "                )\n",
        "\n",
        "        # 第二個分頁：分帳小工具\n",
        "        with gr.TabItem(\"💰 分帳小工具\"):\n",
        "            gr.Markdown(\"請輸入總金額和人數，按下按鈕即可計算每人應付金額。\")\n",
        "\n",
        "            with gr.Row():\n",
        "                total_value = gr.Textbox(label=\"總金額\", placeholder=\"例如：1000\")\n",
        "                num_people_in = gr.Textbox(label=\"人數\", placeholder=\"例如：4\")\n",
        "\n",
        "            # 新增一個按鈕來從支出頁面取得金額\n",
        "            fill_btn = gr.Button(\"讀取最後一筆支出金額\")\n",
        "            split_btn = gr.Button(\"計算分帳\")\n",
        "\n",
        "            split_output = gr.Markdown()\n",
        "\n",
        "            # 設定點擊事件\n",
        "            fill_btn.click(\n",
        "                fn=populate_total_amount,\n",
        "                inputs=amount_state,\n",
        "                outputs=total_value\n",
        "            )\n",
        "\n",
        "            split_btn.click(\n",
        "                fn=split_bill,\n",
        "                inputs=[total_value, num_people_in],\n",
        "                outputs=split_output\n",
        "            )\n",
        "\n",
        "        # 第三個分頁：AI 支出分析\n",
        "        with gr.TabItem(\"🧠 AI 支出分析\"):\n",
        "            gr.Markdown(\"點擊下方按鈕，使用 Gemini AI 對您所有支出進行分析。\")\n",
        "\n",
        "            analyze_btn = gr.Button(\"開始支出分析\")\n",
        "\n",
        "            # 用於顯示 AI 分析結果的元件\n",
        "            analysis_output = gr.Markdown(\"分析結果將顯示在此。\")\n",
        "\n",
        "            # 連接按鈕與分析函式\n",
        "            analyze_btn.click(\n",
        "                fn=analyze_expenses,\n",
        "                inputs=None,\n",
        "                outputs=analysis_output\n",
        "            )\n"
      ],
      "metadata": {
        "id": "W7etdpvttG3e"
      },
      "execution_count": 11,
      "outputs": []
    },
    {
      "cell_type": "code",
      "source": [
        "demo.launch(share=False)"
      ],
      "metadata": {
        "colab": {
          "base_uri": "https://localhost:8080/",
          "height": 598
        },
        "id": "l2n7L9wFtJH6",
        "outputId": "1cd64cb1-37fd-4042-e9f1-816840fc5097"
      },
      "execution_count": 12,
      "outputs": [
        {
          "output_type": "stream",
          "name": "stdout",
          "text": [
            "Colab notebook detected. To show errors in colab notebook, set debug=True in launch()\n",
            "Note: opening Chrome Inspector may crash demo inside Colab notebooks.\n",
            "* To create a public link, set `share=True` in `launch()`.\n"
          ]
        },
        {
          "output_type": "display_data",
          "data": {
            "text/plain": [
              "<IPython.core.display.Javascript object>"
            ],
            "application/javascript": [
              "(async (port, path, width, height, cache, element) => {\n",
              "                        if (!google.colab.kernel.accessAllowed && !cache) {\n",
              "                            return;\n",
              "                        }\n",
              "                        element.appendChild(document.createTextNode(''));\n",
              "                        const url = await google.colab.kernel.proxyPort(port, {cache});\n",
              "\n",
              "                        const external_link = document.createElement('div');\n",
              "                        external_link.innerHTML = `\n",
              "                            <div style=\"font-family: monospace; margin-bottom: 0.5rem\">\n",
              "                                Running on <a href=${new URL(path, url).toString()} target=\"_blank\">\n",
              "                                    https://localhost:${port}${path}\n",
              "                                </a>\n",
              "                            </div>\n",
              "                        `;\n",
              "                        element.appendChild(external_link);\n",
              "\n",
              "                        const iframe = document.createElement('iframe');\n",
              "                        iframe.src = new URL(path, url).toString();\n",
              "                        iframe.height = height;\n",
              "                        iframe.allow = \"autoplay; camera; microphone; clipboard-read; clipboard-write;\"\n",
              "                        iframe.width = width;\n",
              "                        iframe.style.border = 0;\n",
              "                        element.appendChild(iframe);\n",
              "                    })(7860, \"/\", \"100%\", 500, false, window.element)"
            ]
          },
          "metadata": {}
        },
        {
          "output_type": "execute_result",
          "data": {
            "text/plain": []
          },
          "metadata": {},
          "execution_count": 12
        }
      ]
    }
  ]
}