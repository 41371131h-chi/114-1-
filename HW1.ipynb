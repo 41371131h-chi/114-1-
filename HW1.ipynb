{
  "nbformat": 4,
  "nbformat_minor": 0,
  "metadata": {
    "colab": {
      "provenance": [],
      "authorship_tag": "ABX9TyM6BVFGtWMazHOeMpqGPfV5",
      "include_colab_link": true
    },
    "kernelspec": {
      "name": "python3",
      "display_name": "Python 3"
    },
    "language_info": {
      "name": "python"
    }
  },
  "cells": [
    {
      "cell_type": "markdown",
      "metadata": {
        "id": "view-in-github",
        "colab_type": "text"
      },
      "source": [
        "<a href=\"https://colab.research.google.com/github/41371131h-chi/114-1-/blob/main/HW1.ipynb\" target=\"_parent\"><img src=\"https://colab.research.google.com/assets/colab-badge.svg\" alt=\"Open In Colab\"/></a>"
      ]
    },
    {
      "cell_type": "markdown",
      "source": [
        "# 日常支出速算與分攤（作業一）\n",
        "*   目標：從 Sheet 讀「消費紀錄」→ 計總額/分類小計/AA 分攤 → 寫回 Sheet Summary 分頁。\n",
        "*   AI 點子（可選）：請模型總結本週花錢習慣與建議（例如「外食過多」）。\n",
        "*   Sheet 欄位：date,time,item,money,category,pay_way\n",
        "*   googlesheet:https://docs.google.com/spreadsheets/d/1nuhUMYejx4I0uq-2Fro6Bjlpd0H1VW0ecVyKXM1AePA/edit?usp=sharing\n",
        "\n",
        "\n",
        "\n"
      ],
      "metadata": {
        "id": "sRHy8FZjYhhH"
      }
    },
    {
      "cell_type": "code",
      "source": [
        "!pip install gspread oauth2client"
      ],
      "metadata": {
        "colab": {
          "base_uri": "https://localhost:8080/"
        },
        "id": "wAZnQqSzav3V",
        "outputId": "23545ed8-e758-46ab-f208-1605df2c7eb0"
      },
      "execution_count": 1,
      "outputs": [
        {
          "output_type": "stream",
          "name": "stdout",
          "text": [
            "Requirement already satisfied: gspread in /usr/local/lib/python3.12/dist-packages (6.2.1)\n",
            "Requirement already satisfied: oauth2client in /usr/local/lib/python3.12/dist-packages (4.1.3)\n",
            "Requirement already satisfied: google-auth>=1.12.0 in /usr/local/lib/python3.12/dist-packages (from gspread) (2.38.0)\n",
            "Requirement already satisfied: google-auth-oauthlib>=0.4.1 in /usr/local/lib/python3.12/dist-packages (from gspread) (1.2.2)\n",
            "Requirement already satisfied: httplib2>=0.9.1 in /usr/local/lib/python3.12/dist-packages (from oauth2client) (0.31.0)\n",
            "Requirement already satisfied: pyasn1>=0.1.7 in /usr/local/lib/python3.12/dist-packages (from oauth2client) (0.6.1)\n",
            "Requirement already satisfied: pyasn1-modules>=0.0.5 in /usr/local/lib/python3.12/dist-packages (from oauth2client) (0.4.2)\n",
            "Requirement already satisfied: rsa>=3.1.4 in /usr/local/lib/python3.12/dist-packages (from oauth2client) (4.9.1)\n",
            "Requirement already satisfied: six>=1.6.1 in /usr/local/lib/python3.12/dist-packages (from oauth2client) (1.17.0)\n",
            "Requirement already satisfied: cachetools<6.0,>=2.0.0 in /usr/local/lib/python3.12/dist-packages (from google-auth>=1.12.0->gspread) (5.5.2)\n",
            "Requirement already satisfied: requests-oauthlib>=0.7.0 in /usr/local/lib/python3.12/dist-packages (from google-auth-oauthlib>=0.4.1->gspread) (2.0.0)\n",
            "Requirement already satisfied: pyparsing<4,>=3.0.4 in /usr/local/lib/python3.12/dist-packages (from httplib2>=0.9.1->oauth2client) (3.2.4)\n",
            "Requirement already satisfied: oauthlib>=3.0.0 in /usr/local/lib/python3.12/dist-packages (from requests-oauthlib>=0.7.0->google-auth-oauthlib>=0.4.1->gspread) (3.3.1)\n",
            "Requirement already satisfied: requests>=2.0.0 in /usr/local/lib/python3.12/dist-packages (from requests-oauthlib>=0.7.0->google-auth-oauthlib>=0.4.1->gspread) (2.32.4)\n",
            "Requirement already satisfied: charset_normalizer<4,>=2 in /usr/local/lib/python3.12/dist-packages (from requests>=2.0.0->requests-oauthlib>=0.7.0->google-auth-oauthlib>=0.4.1->gspread) (3.4.3)\n",
            "Requirement already satisfied: idna<4,>=2.5 in /usr/local/lib/python3.12/dist-packages (from requests>=2.0.0->requests-oauthlib>=0.7.0->google-auth-oauthlib>=0.4.1->gspread) (3.10)\n",
            "Requirement already satisfied: urllib3<3,>=1.21.1 in /usr/local/lib/python3.12/dist-packages (from requests>=2.0.0->requests-oauthlib>=0.7.0->google-auth-oauthlib>=0.4.1->gspread) (2.5.0)\n",
            "Requirement already satisfied: certifi>=2017.4.17 in /usr/local/lib/python3.12/dist-packages (from requests>=2.0.0->requests-oauthlib>=0.7.0->google-auth-oauthlib>=0.4.1->gspread) (2025.8.3)\n"
          ]
        }
      ]
    },
    {
      "cell_type": "code",
      "source": [
        "from google.colab import auth\n",
        "auth.authenticate_user()\n",
        "import gspread\n",
        "from google.auth import default\n",
        "import pandas as pd\n",
        "import datetime\n",
        "#from types import new_class\n",
        "import gradio as gr\n",
        "\n",
        "creds,_ = default()\n",
        "gc = gspread.authorize(creds)\n",
        "gsheet = gc.open_by_url('https://docs.google.com/spreadsheets/d/1nuhUMYejx4I0uq-2Fro6Bjlpd0H1VW0ecVyKXM1AePA/edit?usp=sharing')\n",
        "worksheet = gsheet.worksheet('工作表1')"
      ],
      "metadata": {
        "id": "sVv64UCIivxR"
      },
      "execution_count": 2,
      "outputs": []
    },
    {
      "cell_type": "code",
      "source": [
        "def write_to_sheet(date_str, time_str, item, money, category, pay_way):\n",
        "    \"\"\"\n",
        "    接收使用者輸入，並寫入 Google Sheets 的函式。\n",
        "    \"\"\"\n",
        "    try:\n",
        "        # 驗證日期和時間格式\n",
        "        datetime.datetime.strptime(date_str, '%Y-%m-%d')\n",
        "        datetime.datetime.strptime(time_str, '%H:%M')\n",
        "\n",
        "        # 確保金額是數字\n",
        "        money = int(money)\n",
        "\n",
        "        # 建立一個 DataFrame 來儲存單筆資料\n",
        "        data = pd.DataFrame([{\n",
        "            '日期': date_str,\n",
        "            '時間': time_str,\n",
        "            '品項': item,\n",
        "            '金額': money,\n",
        "            '類別': category,\n",
        "            '支付方式': pay_way\n",
        "        }])\n",
        "\n",
        "        # 將 DataFrame 轉為列表以便寫入\n",
        "        data_to_write = data.values.tolist()\n",
        "\n",
        "        # 寫入資料到 Google Sheets\n",
        "        worksheet.append_rows(values=data_to_write, value_input_option='USER_ENTERED')\n",
        "\n",
        "        return \"✅ 資料已成功寫入！\"\n",
        "\n",
        "    except ValueError as ve:\n",
        "        # 處理格式錯誤\n",
        "        return f\"❌ 格式錯誤：{ve}，請確認日期（YYYY-MM-DD）、時間（HH:MM）或金額的格式是否正確。\"\n",
        "    except Exception as e:\n",
        "        # 處理其他錯誤\n",
        "        return f\"❌ 寫入失敗：{e}\"\n"
      ],
      "metadata": {
        "id": "oD_qSMQPZ3ha"
      },
      "execution_count": 3,
      "outputs": []
    },
    {
      "cell_type": "code",
      "source": [
        "def get_total_amount():\n",
        "    \"\"\"\n",
        "    從 Google Sheets 中讀取所有資料，計算金額總計並回傳。\n",
        "    \"\"\"\n",
        "    try:\n",
        "        # 讀取工作表的所有資料\n",
        "        df = pd.DataFrame(worksheet.get_all_records())\n",
        "\n",
        "        # 如果 '金額' 欄位存在，計算總和\n",
        "        if '金額' in df.columns:\n",
        "            total_money = df['金額'].sum()\n",
        "            return f\"💰 目前總支出：{total_money} 元\"\n",
        "        else:\n",
        "            return \"❌ 總計計算失敗：找不到 '金額' 欄位。\"\n",
        "\n",
        "    except Exception as e:\n",
        "        return f\"❌ 總計計算失敗：{e}\""
      ],
      "metadata": {
        "id": "0KtmRQIqeak-"
      },
      "execution_count": 4,
      "outputs": []
    },
    {
      "cell_type": "code",
      "source": [
        "with gr.Blocks(title=\"chi_支出記錄器\") as demo:\n",
        "    gr.Markdown(\"## 📋 Google Sheets 支出記錄器\")\n",
        "    gr.Markdown(\"請在下方輸入支出資料，資料將會自動寫入 Google Sheets。\")\n",
        "\n",
        "    with gr.Row():\n",
        "        date_in = gr.Textbox(label=\"日期\", placeholder=\"YYYY-MM-DD\", value=datetime.date.today().strftime(\"%Y-%m-%d\"))\n",
        "        time_in = gr.Textbox(label=\"時間\", placeholder=\"HH:MM\", value=datetime.datetime.now().strftime(\"%H:%M\"))\n",
        "\n",
        "    with gr.Row():\n",
        "        item_in = gr.Textbox(label=\"品項\", placeholder=\"例如：午餐、車票\")\n",
        "        money_in = gr.Textbox(label=\"金額\", placeholder=\"數字\")\n",
        "\n",
        "    with gr.Row():\n",
        "        category_in = gr.Textbox(label=\"類別\", placeholder=\"例如：外食、交通\")\n",
        "        pay_way_in = gr.Textbox(label=\"支付方式\", placeholder=\"例如：現金、信用卡\")\n",
        "\n",
        "    submit_btn = gr.Button(\"寫入資料\")\n",
        "\n",
        "    # 新增一個 Row 來顯示總計\n",
        "    with gr.Row():\n",
        "        output_msg = gr.Markdown()\n",
        "        total_output = gr.Markdown(value=get_total_amount())\n",
        "\n",
        "    submit_btn.click(\n",
        "        fn=write_to_sheet,\n",
        "        inputs=[date_in, time_in, item_in, money_in, category_in, pay_way_in],\n",
        "        outputs=[output_msg, total_output]\n",
        "    )\n"
      ],
      "metadata": {
        "id": "mv3jnIeto95u"
      },
      "execution_count": 5,
      "outputs": []
    },
    {
      "cell_type": "code",
      "source": [
        "demo.launch(share=False)"
      ],
      "metadata": {
        "colab": {
          "base_uri": "https://localhost:8080/",
          "height": 598
        },
        "id": "83C2SPU0p3vl",
        "outputId": "900e131b-a524-405a-90f8-48e12d4436ae"
      },
      "execution_count": 6,
      "outputs": [
        {
          "output_type": "stream",
          "name": "stdout",
          "text": [
            "Colab notebook detected. To show errors in colab notebook, set debug=True in launch()\n",
            "Note: opening Chrome Inspector may crash demo inside Colab notebooks.\n",
            "* To create a public link, set `share=True` in `launch()`.\n"
          ]
        },
        {
          "output_type": "display_data",
          "data": {
            "text/plain": [
              "<IPython.core.display.Javascript object>"
            ],
            "application/javascript": [
              "(async (port, path, width, height, cache, element) => {\n",
              "                        if (!google.colab.kernel.accessAllowed && !cache) {\n",
              "                            return;\n",
              "                        }\n",
              "                        element.appendChild(document.createTextNode(''));\n",
              "                        const url = await google.colab.kernel.proxyPort(port, {cache});\n",
              "\n",
              "                        const external_link = document.createElement('div');\n",
              "                        external_link.innerHTML = `\n",
              "                            <div style=\"font-family: monospace; margin-bottom: 0.5rem\">\n",
              "                                Running on <a href=${new URL(path, url).toString()} target=\"_blank\">\n",
              "                                    https://localhost:${port}${path}\n",
              "                                </a>\n",
              "                            </div>\n",
              "                        `;\n",
              "                        element.appendChild(external_link);\n",
              "\n",
              "                        const iframe = document.createElement('iframe');\n",
              "                        iframe.src = new URL(path, url).toString();\n",
              "                        iframe.height = height;\n",
              "                        iframe.allow = \"autoplay; camera; microphone; clipboard-read; clipboard-write;\"\n",
              "                        iframe.width = width;\n",
              "                        iframe.style.border = 0;\n",
              "                        element.appendChild(iframe);\n",
              "                    })(7860, \"/\", \"100%\", 500, false, window.element)"
            ]
          },
          "metadata": {}
        },
        {
          "output_type": "execute_result",
          "data": {
            "text/plain": []
          },
          "metadata": {},
          "execution_count": 6
        }
      ]
    }
  ]
}